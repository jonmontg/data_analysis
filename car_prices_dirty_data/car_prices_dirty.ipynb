{
  "nbformat": 4,
  "nbformat_minor": 0,
  "metadata": {
    "colab": {
      "provenance": [],
      "collapsed_sections": [
        "eO8xMUZbXxKu"
      ],
      "authorship_tag": "ABX9TyNsc3L7tcieC1KJFpZdlKdP",
      "include_colab_link": true
    },
    "kernelspec": {
      "name": "python3",
      "display_name": "Python 3"
    },
    "language_info": {
      "name": "python"
    }
  },
  "cells": [
    {
      "cell_type": "markdown",
      "metadata": {
        "id": "view-in-github",
        "colab_type": "text"
      },
      "source": [
        "<a href=\"https://colab.research.google.com/github/jonmontg/data_analysis/blob/main/car_prices_dirty.ipynb\" target=\"_parent\"><img src=\"https://colab.research.google.com/assets/colab-badge.svg\" alt=\"Open In Colab\"/></a>"
      ]
    },
    {
      "cell_type": "markdown",
      "source": [
        "#Used Car Price Prediction"
      ],
      "metadata": {
        "id": "a2BQMVMUCKYn"
      }
    },
    {
      "cell_type": "markdown",
      "source": [
        "##Setup"
      ],
      "metadata": {
        "id": "nNI9US4jChx-"
      }
    },
    {
      "cell_type": "code",
      "source": [
        "import numpy as np\n",
        "import pandas as pd\n",
        "from sklearn import linear_model\n",
        "import seaborn as sns\n",
        "import matplotlib.pyplot as plt\n",
        "from scipy.stats import skew\n",
        "from scipy.stats import ttest_ind\n",
        "from scipy.stats import zscore\n",
        "from sklearn.model_selection import train_test_split\n",
        "from sklearn.metrics import mean_squared_error\n",
        "from sklearn import tree\n",
        "from decimal import Decimal\n",
        "from re import sub\n",
        "import datetime\n",
        "import math\n",
        "import re"
      ],
      "metadata": {
        "id": "TA2RwLlACPYJ"
      },
      "execution_count": null,
      "outputs": []
    },
    {
      "cell_type": "code",
      "source": [
        "df = pd.read_csv(\"used_cars.csv\")"
      ],
      "metadata": {
        "id": "GyXiiYkhCl1F"
      },
      "execution_count": null,
      "outputs": []
    },
    {
      "cell_type": "code",
      "source": [
        "def to_float(x):\n",
        "  return int(sub(r'[^\\d]', '', x))"
      ],
      "metadata": {
        "id": "u9TyNJE1Tyrh"
      },
      "execution_count": null,
      "outputs": []
    },
    {
      "cell_type": "markdown",
      "source": [
        "##Exploring the data"
      ],
      "metadata": {
        "id": "YM9o37N2C0YG"
      }
    },
    {
      "cell_type": "code",
      "source": [
        "df.head()"
      ],
      "metadata": {
        "id": "zEzaubzCCrzH",
        "colab": {
          "base_uri": "https://localhost:8080/",
          "height": 521
        },
        "outputId": "1624464a-3d07-4e9c-df20-7eb7ba448860"
      },
      "execution_count": null,
      "outputs": [
        {
          "output_type": "execute_result",
          "data": {
            "text/plain": [
              "      brand                            model  model_year      milage  \\\n",
              "0      Ford  Utility Police Interceptor Base        2013  51,000 mi.   \n",
              "1   Hyundai                     Palisade SEL        2021  34,742 mi.   \n",
              "2     Lexus                    RX 350 RX 350        2022  22,372 mi.   \n",
              "3  INFINITI                 Q50 Hybrid Sport        2015  88,900 mi.   \n",
              "4      Audi        Q3 45 S line Premium Plus        2021   9,835 mi.   \n",
              "\n",
              "       fuel_type                                             engine  \\\n",
              "0  E85 Flex Fuel  300.0HP 3.7L V6 Cylinder Engine Flex Fuel Capa...   \n",
              "1       Gasoline                               3.8L V6 24V GDI DOHC   \n",
              "2       Gasoline                                     3.5 Liter DOHC   \n",
              "3         Hybrid  354.0HP 3.5L V6 Cylinder Engine Gas/Electric H...   \n",
              "4       Gasoline                         2.0L I4 16V GDI DOHC Turbo   \n",
              "\n",
              "        transmission                 ext_col int_col  \\\n",
              "0        6-Speed A/T                   Black   Black   \n",
              "1  8-Speed Automatic         Moonlight Cloud    Gray   \n",
              "2          Automatic                    Blue   Black   \n",
              "3        7-Speed A/T                   Black   Black   \n",
              "4  8-Speed Automatic  Glacier White Metallic   Black   \n",
              "\n",
              "                                 accident clean_title    price  \n",
              "0  At least 1 accident or damage reported         Yes  $10,300  \n",
              "1  At least 1 accident or damage reported         Yes  $38,005  \n",
              "2                           None reported         NaN  $54,598  \n",
              "3                           None reported         Yes  $15,500  \n",
              "4                           None reported         NaN  $34,999  "
            ],
            "text/html": [
              "\n",
              "  <div id=\"df-533a3376-6271-4030-84c7-514ee9c50ab6\" class=\"colab-df-container\">\n",
              "    <div>\n",
              "<style scoped>\n",
              "    .dataframe tbody tr th:only-of-type {\n",
              "        vertical-align: middle;\n",
              "    }\n",
              "\n",
              "    .dataframe tbody tr th {\n",
              "        vertical-align: top;\n",
              "    }\n",
              "\n",
              "    .dataframe thead th {\n",
              "        text-align: right;\n",
              "    }\n",
              "</style>\n",
              "<table border=\"1\" class=\"dataframe\">\n",
              "  <thead>\n",
              "    <tr style=\"text-align: right;\">\n",
              "      <th></th>\n",
              "      <th>brand</th>\n",
              "      <th>model</th>\n",
              "      <th>model_year</th>\n",
              "      <th>milage</th>\n",
              "      <th>fuel_type</th>\n",
              "      <th>engine</th>\n",
              "      <th>transmission</th>\n",
              "      <th>ext_col</th>\n",
              "      <th>int_col</th>\n",
              "      <th>accident</th>\n",
              "      <th>clean_title</th>\n",
              "      <th>price</th>\n",
              "    </tr>\n",
              "  </thead>\n",
              "  <tbody>\n",
              "    <tr>\n",
              "      <th>0</th>\n",
              "      <td>Ford</td>\n",
              "      <td>Utility Police Interceptor Base</td>\n",
              "      <td>2013</td>\n",
              "      <td>51,000 mi.</td>\n",
              "      <td>E85 Flex Fuel</td>\n",
              "      <td>300.0HP 3.7L V6 Cylinder Engine Flex Fuel Capa...</td>\n",
              "      <td>6-Speed A/T</td>\n",
              "      <td>Black</td>\n",
              "      <td>Black</td>\n",
              "      <td>At least 1 accident or damage reported</td>\n",
              "      <td>Yes</td>\n",
              "      <td>$10,300</td>\n",
              "    </tr>\n",
              "    <tr>\n",
              "      <th>1</th>\n",
              "      <td>Hyundai</td>\n",
              "      <td>Palisade SEL</td>\n",
              "      <td>2021</td>\n",
              "      <td>34,742 mi.</td>\n",
              "      <td>Gasoline</td>\n",
              "      <td>3.8L V6 24V GDI DOHC</td>\n",
              "      <td>8-Speed Automatic</td>\n",
              "      <td>Moonlight Cloud</td>\n",
              "      <td>Gray</td>\n",
              "      <td>At least 1 accident or damage reported</td>\n",
              "      <td>Yes</td>\n",
              "      <td>$38,005</td>\n",
              "    </tr>\n",
              "    <tr>\n",
              "      <th>2</th>\n",
              "      <td>Lexus</td>\n",
              "      <td>RX 350 RX 350</td>\n",
              "      <td>2022</td>\n",
              "      <td>22,372 mi.</td>\n",
              "      <td>Gasoline</td>\n",
              "      <td>3.5 Liter DOHC</td>\n",
              "      <td>Automatic</td>\n",
              "      <td>Blue</td>\n",
              "      <td>Black</td>\n",
              "      <td>None reported</td>\n",
              "      <td>NaN</td>\n",
              "      <td>$54,598</td>\n",
              "    </tr>\n",
              "    <tr>\n",
              "      <th>3</th>\n",
              "      <td>INFINITI</td>\n",
              "      <td>Q50 Hybrid Sport</td>\n",
              "      <td>2015</td>\n",
              "      <td>88,900 mi.</td>\n",
              "      <td>Hybrid</td>\n",
              "      <td>354.0HP 3.5L V6 Cylinder Engine Gas/Electric H...</td>\n",
              "      <td>7-Speed A/T</td>\n",
              "      <td>Black</td>\n",
              "      <td>Black</td>\n",
              "      <td>None reported</td>\n",
              "      <td>Yes</td>\n",
              "      <td>$15,500</td>\n",
              "    </tr>\n",
              "    <tr>\n",
              "      <th>4</th>\n",
              "      <td>Audi</td>\n",
              "      <td>Q3 45 S line Premium Plus</td>\n",
              "      <td>2021</td>\n",
              "      <td>9,835 mi.</td>\n",
              "      <td>Gasoline</td>\n",
              "      <td>2.0L I4 16V GDI DOHC Turbo</td>\n",
              "      <td>8-Speed Automatic</td>\n",
              "      <td>Glacier White Metallic</td>\n",
              "      <td>Black</td>\n",
              "      <td>None reported</td>\n",
              "      <td>NaN</td>\n",
              "      <td>$34,999</td>\n",
              "    </tr>\n",
              "  </tbody>\n",
              "</table>\n",
              "</div>\n",
              "    <div class=\"colab-df-buttons\">\n",
              "\n",
              "  <div class=\"colab-df-container\">\n",
              "    <button class=\"colab-df-convert\" onclick=\"convertToInteractive('df-533a3376-6271-4030-84c7-514ee9c50ab6')\"\n",
              "            title=\"Convert this dataframe to an interactive table.\"\n",
              "            style=\"display:none;\">\n",
              "\n",
              "  <svg xmlns=\"http://www.w3.org/2000/svg\" height=\"24px\" viewBox=\"0 -960 960 960\">\n",
              "    <path d=\"M120-120v-720h720v720H120Zm60-500h600v-160H180v160Zm220 220h160v-160H400v160Zm0 220h160v-160H400v160ZM180-400h160v-160H180v160Zm440 0h160v-160H620v160ZM180-180h160v-160H180v160Zm440 0h160v-160H620v160Z\"/>\n",
              "  </svg>\n",
              "    </button>\n",
              "\n",
              "  <style>\n",
              "    .colab-df-container {\n",
              "      display:flex;\n",
              "      gap: 12px;\n",
              "    }\n",
              "\n",
              "    .colab-df-convert {\n",
              "      background-color: #E8F0FE;\n",
              "      border: none;\n",
              "      border-radius: 50%;\n",
              "      cursor: pointer;\n",
              "      display: none;\n",
              "      fill: #1967D2;\n",
              "      height: 32px;\n",
              "      padding: 0 0 0 0;\n",
              "      width: 32px;\n",
              "    }\n",
              "\n",
              "    .colab-df-convert:hover {\n",
              "      background-color: #E2EBFA;\n",
              "      box-shadow: 0px 1px 2px rgba(60, 64, 67, 0.3), 0px 1px 3px 1px rgba(60, 64, 67, 0.15);\n",
              "      fill: #174EA6;\n",
              "    }\n",
              "\n",
              "    .colab-df-buttons div {\n",
              "      margin-bottom: 4px;\n",
              "    }\n",
              "\n",
              "    [theme=dark] .colab-df-convert {\n",
              "      background-color: #3B4455;\n",
              "      fill: #D2E3FC;\n",
              "    }\n",
              "\n",
              "    [theme=dark] .colab-df-convert:hover {\n",
              "      background-color: #434B5C;\n",
              "      box-shadow: 0px 1px 3px 1px rgba(0, 0, 0, 0.15);\n",
              "      filter: drop-shadow(0px 1px 2px rgba(0, 0, 0, 0.3));\n",
              "      fill: #FFFFFF;\n",
              "    }\n",
              "  </style>\n",
              "\n",
              "    <script>\n",
              "      const buttonEl =\n",
              "        document.querySelector('#df-533a3376-6271-4030-84c7-514ee9c50ab6 button.colab-df-convert');\n",
              "      buttonEl.style.display =\n",
              "        google.colab.kernel.accessAllowed ? 'block' : 'none';\n",
              "\n",
              "      async function convertToInteractive(key) {\n",
              "        const element = document.querySelector('#df-533a3376-6271-4030-84c7-514ee9c50ab6');\n",
              "        const dataTable =\n",
              "          await google.colab.kernel.invokeFunction('convertToInteractive',\n",
              "                                                    [key], {});\n",
              "        if (!dataTable) return;\n",
              "\n",
              "        const docLinkHtml = 'Like what you see? Visit the ' +\n",
              "          '<a target=\"_blank\" href=https://colab.research.google.com/notebooks/data_table.ipynb>data table notebook</a>'\n",
              "          + ' to learn more about interactive tables.';\n",
              "        element.innerHTML = '';\n",
              "        dataTable['output_type'] = 'display_data';\n",
              "        await google.colab.output.renderOutput(dataTable, element);\n",
              "        const docLink = document.createElement('div');\n",
              "        docLink.innerHTML = docLinkHtml;\n",
              "        element.appendChild(docLink);\n",
              "      }\n",
              "    </script>\n",
              "  </div>\n",
              "\n",
              "\n",
              "<div id=\"df-b4df9c7e-0668-4d7b-8691-11258b253c5d\">\n",
              "  <button class=\"colab-df-quickchart\" onclick=\"quickchart('df-b4df9c7e-0668-4d7b-8691-11258b253c5d')\"\n",
              "            title=\"Suggest charts.\"\n",
              "            style=\"display:none;\">\n",
              "\n",
              "<svg xmlns=\"http://www.w3.org/2000/svg\" height=\"24px\"viewBox=\"0 0 24 24\"\n",
              "     width=\"24px\">\n",
              "    <g>\n",
              "        <path d=\"M19 3H5c-1.1 0-2 .9-2 2v14c0 1.1.9 2 2 2h14c1.1 0 2-.9 2-2V5c0-1.1-.9-2-2-2zM9 17H7v-7h2v7zm4 0h-2V7h2v10zm4 0h-2v-4h2v4z\"/>\n",
              "    </g>\n",
              "</svg>\n",
              "  </button>\n",
              "\n",
              "<style>\n",
              "  .colab-df-quickchart {\n",
              "      --bg-color: #E8F0FE;\n",
              "      --fill-color: #1967D2;\n",
              "      --hover-bg-color: #E2EBFA;\n",
              "      --hover-fill-color: #174EA6;\n",
              "      --disabled-fill-color: #AAA;\n",
              "      --disabled-bg-color: #DDD;\n",
              "  }\n",
              "\n",
              "  [theme=dark] .colab-df-quickchart {\n",
              "      --bg-color: #3B4455;\n",
              "      --fill-color: #D2E3FC;\n",
              "      --hover-bg-color: #434B5C;\n",
              "      --hover-fill-color: #FFFFFF;\n",
              "      --disabled-bg-color: #3B4455;\n",
              "      --disabled-fill-color: #666;\n",
              "  }\n",
              "\n",
              "  .colab-df-quickchart {\n",
              "    background-color: var(--bg-color);\n",
              "    border: none;\n",
              "    border-radius: 50%;\n",
              "    cursor: pointer;\n",
              "    display: none;\n",
              "    fill: var(--fill-color);\n",
              "    height: 32px;\n",
              "    padding: 0;\n",
              "    width: 32px;\n",
              "  }\n",
              "\n",
              "  .colab-df-quickchart:hover {\n",
              "    background-color: var(--hover-bg-color);\n",
              "    box-shadow: 0 1px 2px rgba(60, 64, 67, 0.3), 0 1px 3px 1px rgba(60, 64, 67, 0.15);\n",
              "    fill: var(--button-hover-fill-color);\n",
              "  }\n",
              "\n",
              "  .colab-df-quickchart-complete:disabled,\n",
              "  .colab-df-quickchart-complete:disabled:hover {\n",
              "    background-color: var(--disabled-bg-color);\n",
              "    fill: var(--disabled-fill-color);\n",
              "    box-shadow: none;\n",
              "  }\n",
              "\n",
              "  .colab-df-spinner {\n",
              "    border: 2px solid var(--fill-color);\n",
              "    border-color: transparent;\n",
              "    border-bottom-color: var(--fill-color);\n",
              "    animation:\n",
              "      spin 1s steps(1) infinite;\n",
              "  }\n",
              "\n",
              "  @keyframes spin {\n",
              "    0% {\n",
              "      border-color: transparent;\n",
              "      border-bottom-color: var(--fill-color);\n",
              "      border-left-color: var(--fill-color);\n",
              "    }\n",
              "    20% {\n",
              "      border-color: transparent;\n",
              "      border-left-color: var(--fill-color);\n",
              "      border-top-color: var(--fill-color);\n",
              "    }\n",
              "    30% {\n",
              "      border-color: transparent;\n",
              "      border-left-color: var(--fill-color);\n",
              "      border-top-color: var(--fill-color);\n",
              "      border-right-color: var(--fill-color);\n",
              "    }\n",
              "    40% {\n",
              "      border-color: transparent;\n",
              "      border-right-color: var(--fill-color);\n",
              "      border-top-color: var(--fill-color);\n",
              "    }\n",
              "    60% {\n",
              "      border-color: transparent;\n",
              "      border-right-color: var(--fill-color);\n",
              "    }\n",
              "    80% {\n",
              "      border-color: transparent;\n",
              "      border-right-color: var(--fill-color);\n",
              "      border-bottom-color: var(--fill-color);\n",
              "    }\n",
              "    90% {\n",
              "      border-color: transparent;\n",
              "      border-bottom-color: var(--fill-color);\n",
              "    }\n",
              "  }\n",
              "</style>\n",
              "\n",
              "  <script>\n",
              "    async function quickchart(key) {\n",
              "      const quickchartButtonEl =\n",
              "        document.querySelector('#' + key + ' button');\n",
              "      quickchartButtonEl.disabled = true;  // To prevent multiple clicks.\n",
              "      quickchartButtonEl.classList.add('colab-df-spinner');\n",
              "      try {\n",
              "        const charts = await google.colab.kernel.invokeFunction(\n",
              "            'suggestCharts', [key], {});\n",
              "      } catch (error) {\n",
              "        console.error('Error during call to suggestCharts:', error);\n",
              "      }\n",
              "      quickchartButtonEl.classList.remove('colab-df-spinner');\n",
              "      quickchartButtonEl.classList.add('colab-df-quickchart-complete');\n",
              "    }\n",
              "    (() => {\n",
              "      let quickchartButtonEl =\n",
              "        document.querySelector('#df-b4df9c7e-0668-4d7b-8691-11258b253c5d button');\n",
              "      quickchartButtonEl.style.display =\n",
              "        google.colab.kernel.accessAllowed ? 'block' : 'none';\n",
              "    })();\n",
              "  </script>\n",
              "</div>\n",
              "    </div>\n",
              "  </div>\n"
            ]
          },
          "metadata": {},
          "execution_count": 159
        }
      ]
    },
    {
      "cell_type": "code",
      "source": [
        "df.isna().sum()"
      ],
      "metadata": {
        "id": "VTWXbaD1R6d9",
        "colab": {
          "base_uri": "https://localhost:8080/"
        },
        "outputId": "7c67f449-9297-474a-eed7-f9a5dea2ed22"
      },
      "execution_count": null,
      "outputs": [
        {
          "output_type": "execute_result",
          "data": {
            "text/plain": [
              "brand             0\n",
              "model             0\n",
              "model_year        0\n",
              "milage            0\n",
              "fuel_type       170\n",
              "engine            0\n",
              "transmission      0\n",
              "ext_col           0\n",
              "int_col           0\n",
              "accident        113\n",
              "clean_title     596\n",
              "price             0\n",
              "dtype: int64"
            ]
          },
          "metadata": {},
          "execution_count": 160
        }
      ]
    },
    {
      "cell_type": "markdown",
      "source": [
        "###Price"
      ],
      "metadata": {
        "id": "-_E5XNX2UDcd"
      }
    },
    {
      "cell_type": "code",
      "source": [
        "df.price"
      ],
      "metadata": {
        "id": "r-y-YsQ4UJmO",
        "colab": {
          "base_uri": "https://localhost:8080/"
        },
        "outputId": "7d71ee0d-886c-4cff-e10d-3404bdcc03fe"
      },
      "execution_count": null,
      "outputs": [
        {
          "output_type": "execute_result",
          "data": {
            "text/plain": [
              "0        $10,300\n",
              "1        $38,005\n",
              "2        $54,598\n",
              "3        $15,500\n",
              "4        $34,999\n",
              "          ...   \n",
              "4004    $349,950\n",
              "4005     $53,900\n",
              "4006     $90,998\n",
              "4007     $62,999\n",
              "4008     $40,000\n",
              "Name: price, Length: 4009, dtype: object"
            ]
          },
          "metadata": {},
          "execution_count": 161
        }
      ]
    },
    {
      "cell_type": "markdown",
      "source": [
        "Let's convert the price values to integers."
      ],
      "metadata": {
        "id": "qE7wlIVm_ApB"
      }
    },
    {
      "cell_type": "code",
      "source": [
        "df.price = df.price.map(to_float)"
      ],
      "metadata": {
        "id": "KI_ImCQsUVaN"
      },
      "execution_count": null,
      "outputs": []
    },
    {
      "cell_type": "code",
      "source": [
        "df.price"
      ],
      "metadata": {
        "id": "VOOwrNAPUgNp",
        "colab": {
          "base_uri": "https://localhost:8080/"
        },
        "outputId": "cb58587e-e9ce-4139-dbc9-9ad04077ded6"
      },
      "execution_count": null,
      "outputs": [
        {
          "output_type": "execute_result",
          "data": {
            "text/plain": [
              "0        10300\n",
              "1        38005\n",
              "2        54598\n",
              "3        15500\n",
              "4        34999\n",
              "         ...  \n",
              "4004    349950\n",
              "4005     53900\n",
              "4006     90998\n",
              "4007     62999\n",
              "4008     40000\n",
              "Name: price, Length: 4009, dtype: int64"
            ]
          },
          "metadata": {},
          "execution_count": 163
        }
      ]
    },
    {
      "cell_type": "code",
      "source": [
        "df.price.describe()"
      ],
      "metadata": {
        "colab": {
          "base_uri": "https://localhost:8080/"
        },
        "id": "LOeZTNFMO0ur",
        "outputId": "d2b2d0ff-8c31-459c-c4a0-90d535c4d29c"
      },
      "execution_count": null,
      "outputs": [
        {
          "output_type": "execute_result",
          "data": {
            "text/plain": [
              "count    4.009000e+03\n",
              "mean     4.455319e+04\n",
              "std      7.871064e+04\n",
              "min      2.000000e+03\n",
              "25%      1.720000e+04\n",
              "50%      3.100000e+04\n",
              "75%      4.999000e+04\n",
              "max      2.954083e+06\n",
              "Name: price, dtype: float64"
            ]
          },
          "metadata": {},
          "execution_count": 164
        }
      ]
    },
    {
      "cell_type": "code",
      "source": [
        "df.price.median()"
      ],
      "metadata": {
        "colab": {
          "base_uri": "https://localhost:8080/"
        },
        "id": "0NADL1YkO26j",
        "outputId": "055d0596-fcb7-449a-8b81-7aa9d647461d"
      },
      "execution_count": null,
      "outputs": [
        {
          "output_type": "execute_result",
          "data": {
            "text/plain": [
              "31000.0"
            ]
          },
          "metadata": {},
          "execution_count": 165
        }
      ]
    },
    {
      "cell_type": "markdown",
      "source": [
        "The data show a rightward skew."
      ],
      "metadata": {
        "id": "fJ7TN5fKObcc"
      }
    },
    {
      "cell_type": "code",
      "source": [
        "plt.figure(figsize=(12,10))\n",
        "sns.boxplot(data=df, x=\"price\", y=\"brand\")"
      ],
      "metadata": {
        "id": "O-nnZI1N_eDk",
        "colab": {
          "base_uri": "https://localhost:8080/",
          "height": 838
        },
        "outputId": "16396046-d300-45d8-80be-028cbb805279"
      },
      "execution_count": null,
      "outputs": [
        {
          "output_type": "execute_result",
          "data": {
            "text/plain": [
              "<Axes: xlabel='price', ylabel='brand'>"
            ]
          },
          "metadata": {},
          "execution_count": 166
        },
        {
          "output_type": "display_data",
          "data": {
            "text/plain": [
              "<Figure size 1200x1000 with 1 Axes>"
            ],
            "image/png": "[encoded data removed]"
          },
          "metadata": {}
        }
      ]
    },
    {
      "cell_type": "markdown",
      "source": [
        "The data contain some extreme outliers. Let's remove them to clean things up."
      ],
      "metadata": {
        "id": "hYSI0Hs3BW6W"
      }
    },
    {
      "cell_type": "code",
      "source": [
        "Q1 = df.quantile(0.25, numeric_only=True)\n",
        "Q3 = df.quantile(0.75, numeric_only=True)\n",
        "IQR = Q3-Q1\n",
        "df = df[~((df.lt(Q1-1.5*IQR))| (df.gt(Q3+1.5*IQR))).any(axis=1)]"
      ],
      "metadata": {
        "id": "vIATyHmbBfB2"
      },
      "execution_count": null,
      "outputs": []
    },
    {
      "cell_type": "code",
      "source": [
        "plt.figure(figsize=(12,10))\n",
        "sns.boxplot(data=df, x=\"price\", y=\"brand\")"
      ],
      "metadata": {
        "id": "PG8j5vgiCWfn",
        "colab": {
          "base_uri": "https://localhost:8080/",
          "height": 838
        },
        "outputId": "f01c75cb-e4fa-4afc-dda2-31c7d2d39f58"
      },
      "execution_count": null,
      "outputs": [
        {
          "output_type": "execute_result",
          "data": {
            "text/plain": [
              "<Axes: xlabel='price', ylabel='brand'>"
            ]
          },
          "metadata": {},
          "execution_count": 168
        },
        {
          "output_type": "display_data",
          "data": {
            "text/plain": [
              "<Figure size 1200x1000 with 1 Axes>"
            ],
            "image/png": "[encoded data removed]"
          },
          "metadata": {}
        }
      ]
    },
    {
      "cell_type": "code",
      "source": [
        "df.price.describe()"
      ],
      "metadata": {
        "colab": {
          "base_uri": "https://localhost:8080/"
        },
        "id": "3bUwOzafOqW5",
        "outputId": "4ccbb4b9-999a-493b-bd04-6e6d4e738888"
      },
      "execution_count": null,
      "outputs": [
        {
          "output_type": "execute_result",
          "data": {
            "text/plain": [
              "count     3699.000000\n",
              "mean     33838.981617\n",
              "std      21292.918498\n",
              "min       2000.000000\n",
              "25%      16999.500000\n",
              "50%      29994.000000\n",
              "75%      45950.000000\n",
              "max      99000.000000\n",
              "Name: price, dtype: float64"
            ]
          },
          "metadata": {},
          "execution_count": 169
        }
      ]
    },
    {
      "cell_type": "code",
      "source": [
        "df.price.median()"
      ],
      "metadata": {
        "colab": {
          "base_uri": "https://localhost:8080/"
        },
        "id": "XI1oW6q9OwYC",
        "outputId": "e18745f6-16c1-4677-b4de-eee6fafbb1c8"
      },
      "execution_count": null,
      "outputs": [
        {
          "output_type": "execute_result",
          "data": {
            "text/plain": [
              "29994.0"
            ]
          },
          "metadata": {},
          "execution_count": 170
        }
      ]
    },
    {
      "cell_type": "markdown",
      "source": [
        "###Brand"
      ],
      "metadata": {
        "id": "JurELGxXQwXo"
      }
    },
    {
      "cell_type": "code",
      "source": [
        "plt.figure(figsize=(8,12))\n",
        "sns.countplot(data=df, y=\"brand\", order = df[\"brand\"].value_counts().index)\n",
        "plt.show()"
      ],
      "metadata": {
        "id": "M6WRaTQDC5As",
        "colab": {
          "base_uri": "https://localhost:8080/",
          "height": 1000
        },
        "outputId": "399fea03-6a87-429e-8353-5351154b5ad1"
      },
      "execution_count": null,
      "outputs": [
        {
          "output_type": "display_data",
          "data": {
            "text/plain": [
              "<Figure size 800x1200 with 1 Axes>"
            ],
            "image/png": "[encoded data removed]"
          },
          "metadata": {}
        }
      ]
    },
    {
      "cell_type": "markdown",
      "source": [
        "###Model"
      ],
      "metadata": {
        "id": "YFThmuF3Q1VH"
      }
    },
    {
      "cell_type": "code",
      "source": [
        "df.model.describe()"
      ],
      "metadata": {
        "colab": {
          "base_uri": "https://localhost:8080/"
        },
        "id": "oZxwUQ3ZNa_L",
        "outputId": "0bd69ba3-2dbf-4fc6-d48a-30666ef929de"
      },
      "execution_count": null,
      "outputs": [
        {
          "output_type": "execute_result",
          "data": {
            "text/plain": [
              "count        3699\n",
              "unique       1756\n",
              "top       M3 Base\n",
              "freq           29\n",
              "Name: model, dtype: object"
            ]
          },
          "metadata": {},
          "execution_count": 172
        }
      ]
    },
    {
      "cell_type": "markdown",
      "source": [
        "###Model Year"
      ],
      "metadata": {
        "id": "A4Skxm1CQ7tL"
      }
    },
    {
      "cell_type": "code",
      "source": [
        "plt.figure(figsize=(8,12))\n",
        "sns.countplot(data=df, y=\"model_year\")\n",
        "plt.show()"
      ],
      "metadata": {
        "id": "NI1gMyouQ9sR",
        "colab": {
          "base_uri": "https://localhost:8080/",
          "height": 1000
        },
        "outputId": "eaf4a39c-2907-4117-9634-fda325e7b6a8"
      },
      "execution_count": null,
      "outputs": [
        {
          "output_type": "display_data",
          "data": {
            "text/plain": [
              "<Figure size 800x1200 with 1 Axes>"
            ],
            "image/png": "[encoded data removed]"
          },
          "metadata": {}
        }
      ]
    },
    {
      "cell_type": "code",
      "source": [
        "plt.scatter(df.model_year, df.price)"
      ],
      "metadata": {
        "colab": {
          "base_uri": "https://localhost:8080/",
          "height": 448
        },
        "id": "I0jJSPNaPSRj",
        "outputId": "cadf842e-8149-453c-9b1c-0e1f20a098e3"
      },
      "execution_count": null,
      "outputs": [
        {
          "output_type": "execute_result",
          "data": {
            "text/plain": [
              "<matplotlib.collections.PathCollection at 0x7b26ecd3e170>"
            ]
          },
          "metadata": {},
          "execution_count": 174
        },
        {
          "output_type": "display_data",
          "data": {
            "text/plain": [
              "<Figure size 640x480 with 1 Axes>"
            ],
            "image/png": "[encoded data removed]"
          },
          "metadata": {}
        }
      ]
    },
    {
      "cell_type": "markdown",
      "source": [
        "###Milage"
      ],
      "metadata": {
        "id": "3bDKtQWARaqf"
      }
    },
    {
      "cell_type": "code",
      "source": [
        "df.milage = df.milage.map(to_float)"
      ],
      "metadata": {
        "id": "yjJtpxOzRckn"
      },
      "execution_count": null,
      "outputs": []
    },
    {
      "cell_type": "code",
      "source": [
        "plt.scatter(df.milage, df.price)\n",
        "plt.yticks(np.arange(0, df.price.max(), 200000))\n",
        "plt.show()"
      ],
      "metadata": {
        "id": "bQglv_W-Sqth",
        "colab": {
          "base_uri": "https://localhost:8080/",
          "height": 430
        },
        "outputId": "b95961ce-f68c-4073-f0a5-7f766e3af641"
      },
      "execution_count": null,
      "outputs": [
        {
          "output_type": "display_data",
          "data": {
            "text/plain": [
              "<Figure size 640x480 with 1 Axes>"
            ],
            "image/png": "[encoded data removed]"
          },
          "metadata": {}
        }
      ]
    },
    {
      "cell_type": "markdown",
      "source": [
        "###Fuel Type"
      ],
      "metadata": {
        "id": "M3kibHb4VqK0"
      }
    },
    {
      "cell_type": "code",
      "source": [
        "df.fuel_type.describe()"
      ],
      "metadata": {
        "id": "ASHs4XpOJd69",
        "colab": {
          "base_uri": "https://localhost:8080/"
        },
        "outputId": "0bcb51a4-bed6-4c26-c0e1-c4930b172bd2"
      },
      "execution_count": null,
      "outputs": [
        {
          "output_type": "execute_result",
          "data": {
            "text/plain": [
              "count         3536\n",
              "unique           7\n",
              "top       Gasoline\n",
              "freq          3055\n",
              "Name: fuel_type, dtype: object"
            ]
          },
          "metadata": {},
          "execution_count": 177
        }
      ]
    },
    {
      "cell_type": "code",
      "source": [
        "df.fuel_type.unique()"
      ],
      "metadata": {
        "colab": {
          "base_uri": "https://localhost:8080/"
        },
        "id": "UHzhVdpGPtnk",
        "outputId": "e0f2273c-fc83-41f6-ae2d-8783258bf4f9"
      },
      "execution_count": null,
      "outputs": [
        {
          "output_type": "execute_result",
          "data": {
            "text/plain": [
              "array(['E85 Flex Fuel', 'Gasoline', 'Hybrid', nan, 'Diesel',\n",
              "       'Plug-In Hybrid', '–', 'not supported'], dtype=object)"
            ]
          },
          "metadata": {},
          "execution_count": 178
        }
      ]
    },
    {
      "cell_type": "markdown",
      "source": [
        "There are a few categories that indicate a missing value."
      ],
      "metadata": {
        "id": "e2WZ48kvP5p5"
      }
    },
    {
      "cell_type": "code",
      "source": [
        "plt.figure(figsize=(8,4))\n",
        "sns.countplot(data=df, x=\"fuel_type\", order = df[\"fuel_type\"].value_counts().index)\n",
        "plt.show()"
      ],
      "metadata": {
        "id": "lyTIHV2xP6GH",
        "colab": {
          "base_uri": "https://localhost:8080/",
          "height": 388
        },
        "outputId": "be31410f-1126-49ac-b3ee-e1d536fed25a"
      },
      "execution_count": null,
      "outputs": [
        {
          "output_type": "display_data",
          "data": {
            "text/plain": [
              "<Figure size 800x400 with 1 Axes>"
            ],
            "image/png": "[encoded data removed]"
          },
          "metadata": {}
        }
      ]
    },
    {
      "cell_type": "markdown",
      "source": [
        "###Engine"
      ],
      "metadata": {
        "id": "N3I-DoEbVtEO"
      }
    },
    {
      "cell_type": "code",
      "source": [
        "df.engine.describe()"
      ],
      "metadata": {
        "id": "UVN1Z9e6VvjK",
        "colab": {
          "base_uri": "https://localhost:8080/"
        },
        "outputId": "c3e002c6-6c20-4382-a425-8373e627f277"
      },
      "execution_count": null,
      "outputs": [
        {
          "output_type": "execute_result",
          "data": {
            "text/plain": [
              "count                                             3699\n",
              "unique                                            1038\n",
              "top       355.0HP 5.3L 8 Cylinder Engine Gasoline Fuel\n",
              "freq                                                48\n",
              "Name: engine, dtype: object"
            ]
          },
          "metadata": {},
          "execution_count": 180
        }
      ]
    },
    {
      "cell_type": "markdown",
      "source": [
        "###Transmission"
      ],
      "metadata": {
        "id": "xAItK8zaV6O9"
      }
    },
    {
      "cell_type": "code",
      "source": [
        "df.transmission.unique()"
      ],
      "metadata": {
        "id": "hCQKS-fUV7s2",
        "colab": {
          "base_uri": "https://localhost:8080/"
        },
        "outputId": "c94501eb-bd50-43cb-f834-b52cda8ffcfb"
      },
      "execution_count": null,
      "outputs": [
        {
          "output_type": "execute_result",
          "data": {
            "text/plain": [
              "array(['6-Speed A/T', '8-Speed Automatic', 'Automatic', '7-Speed A/T',\n",
              "       'F', 'A/T', 'Transmission w/Dual Shift Mode', '6-Speed M/T',\n",
              "       '8-Speed A/T', '10-Speed A/T', '9-Speed A/T', '5-Speed A/T',\n",
              "       'Automatic CVT', 'CVT-F', '1-Speed A/T', 'M/T',\n",
              "       '6-Speed Automatic with Auto-Shift', '10-Speed Automatic',\n",
              "       'CVT Transmission', '4-Speed A/T', '6-Speed Automatic',\n",
              "       '4-Speed Automatic', '7-Speed M/T',\n",
              "       '8-Speed Automatic with Auto-Shift', '5-Speed Automatic',\n",
              "       '8-SPEED AT', '9-Speed Automatic', '5-Speed M/T', '6-Speed Manual',\n",
              "       'Variable', '1-Speed Automatic', '2', 'Automatic, 9-Spd 9G-Tronic',\n",
              "       'Automatic, 8-Spd',\n",
              "       'Automatic, 8-Spd Sport w/Sport & Manual Modes',\n",
              "       'Auto, 6-Spd w/CmdShft', 'Transmission Overdrive Switch',\n",
              "       '7-Speed Automatic', 'Automatic, 8-Spd PDK Dual-Clutch',\n",
              "       'Automatic, 8-Spd M STEPTRONIC w/Drivelogic, Sport & Manual Modes',\n",
              "       '7-Speed Automatic with Auto-Shift', '6-Speed',\n",
              "       'Single-Speed Fixed Gear', 'Automatic, 10-Spd',\n",
              "       'Automatic, 7-Spd S tronic Dual-Clutch', 'Manual, 6-Spd',\n",
              "       '6-Speed Electronically Controlled Automatic with O',\n",
              "       '6 Speed At/Mt', 'Manual', 'SCHEDULED FOR OR IN PRODUCTION',\n",
              "       '2-Speed A/T', '6 Speed Mt', '8-Speed Manual'], dtype=object)"
            ]
          },
          "metadata": {},
          "execution_count": 181
        }
      ]
    },
    {
      "cell_type": "markdown",
      "source": [
        "###Exterior Color"
      ],
      "metadata": {
        "id": "rsFD1ZUSWKki"
      }
    },
    {
      "cell_type": "code",
      "source": [
        "df.ext_col.unique()"
      ],
      "metadata": {
        "colab": {
          "base_uri": "https://localhost:8080/"
        },
        "id": "Cjuzj85SLypw",
        "outputId": "68137441-7f83-45d7-9a06-3dcf48b8610e"
      },
      "execution_count": null,
      "outputs": [
        {
          "output_type": "execute_result",
          "data": {
            "text/plain": [
              "array(['Black', 'Moonlight Cloud', 'Blue', 'Glacier White Metallic',\n",
              "       'Silver', 'Green', 'Fuji White', 'Yellow', 'White', 'Purple',\n",
              "       'Iconic Silver Metallic', 'Gray', 'Mythos Black Metallic', 'Red',\n",
              "       'Gold', 'Lunar Silver Metallic', 'Mountain Air Metallic',\n",
              "       'Caspian Blue', '–', 'Alpine White', 'Horizon Blue',\n",
              "       'Granite Crystal Clearcoat Metallic', 'Orange', 'Beige',\n",
              "       'Atomic Silver', 'Summit White', 'Imperial Blue Metallic',\n",
              "       'Magnetic Gray Clearcoat', 'Bright White Clearcoat',\n",
              "       'Typhoon Gray', 'Crystal Black Silica', 'Arctic Gray Metallic',\n",
              "       'Selenite Grey Metallic', 'Ultra Black', 'Lunare White Metallic',\n",
              "       'Hyper Red', 'Vik Black', 'Pacific Blue Metallic',\n",
              "       'Obsidian Black Metallic', 'Silver Ice Metallic',\n",
              "       'Sonic Silver Metallic', 'Apex Blue', 'Go Mango!',\n",
              "       'Ingot Silver Metallic', 'Midnight Black Metallic',\n",
              "       'Black Clearcoat', 'Thunder Gray', 'Verde', 'Wind Chill Pearl',\n",
              "       'Mythos Black', 'Patriot Blue Pearlcoat', 'Black Cherry',\n",
              "       'Yulong White', 'Donington Grey Metallic',\n",
              "       'Ruby Red Metallic Tinted Clearcoat', 'Platinum Quartz Metallic',\n",
              "       'Matador Red Metallic', 'Blu', 'Mosaic Black Metallic',\n",
              "       'Jungle Green', 'BLACK', 'Deep Crystal Blue Mica', 'Eiger Grey',\n",
              "       'Ebony Black', 'Brown', 'Indus Silver', 'Ibis White',\n",
              "       'Infrared Tintcoat', 'Midnight Black', 'Phytonic Blue Metallic',\n",
              "       'Quartz White', 'Rapid Red Metallic Tinted Clearcoat',\n",
              "       'Cobra Beige Metallic', 'Pure White', 'Snow White Pearl',\n",
              "       'DB Black Clearcoat', 'Firenze Red Metallic',\n",
              "       'Anodized Blue Metallic', 'MANUFAKTUR Diamond White Bright',\n",
              "       'Santorin Black', 'Glacier', 'Delmonico Red Pearlcoat',\n",
              "       'Brilliant Black', 'Carpathian Grey Premium Metallic',\n",
              "       'Majestic Black Pearl', 'Northsky Blue Metallic', 'Baltic Gray',\n",
              "       'Machine Gray Metallic', 'Twilight Black', 'Pearl White',\n",
              "       'Diamond Black', 'Maroon', 'Firecracker Red Clearcoat',\n",
              "       'Oxford White', 'Flame Red Clearcoat', 'White Clearcoat',\n",
              "       'Silver Zynith', 'Silky Silver', 'Ametrin Metallic',\n",
              "       'Deep Black Pearl Effect', 'Shimmering Silver', 'Gecko Pearlcoat',\n",
              "       'Shoreline Blue Pearl', 'Santorini Black',\n",
              "       'White Platinum Tri-Coat Metallic', 'Sparkling Silver', 'Chalk',\n",
              "       'BLUE', 'Dazzling White', 'Santorini Black Metallic',\n",
              "       'Selenite Gray Metallic', 'Metallic', 'Glacier White',\n",
              "       'Ebony Twilight Metallic', 'Polymetal Gray Metallic',\n",
              "       'Oryx White Prl', 'Black Forest Green', 'Gun Metallic',\n",
              "       'Jet Black Mica', 'Firenze Red', 'Glacial White Pearl',\n",
              "       'designo Diamond White Metallic', 'Blue Metallic',\n",
              "       'Isle of Man Green Metallic', 'Black Noir Pearl',\n",
              "       'Volcano Grey Metallic', 'Soul Red Crystal Metallic', 'Dark Moss',\n",
              "       'Passion Red', 'Typhoon Gray Metallic', 'Onyx Black',\n",
              "       'Redline Red', 'Navarra Blue Metallic',\n",
              "       'Brands Hatch Gray Metallic', 'Hampton Gray', 'Ultra White',\n",
              "       'Hydro Blue Pearlcoat', 'Sandstone Metallic',\n",
              "       'Portofino Blue Metallic', 'Sangria Red', 'Magnetic Metallic',\n",
              "       'Tan', 'Platinum White Pearl', 'designo Diamond White',\n",
              "       'Anthracite Blue Metallic', 'Velvet Red Pearlcoat', 'Silver Mist',\n",
              "       'Antimatter Blue Metallic', 'Cirrus Silver Metallic', 'Pink',\n",
              "       'Cayenne Red Tintcoat', 'Garnet Red Metallic', 'Black Obsidian',\n",
              "       'Pristine White', 'Nebula Gray Pearl', 'Super White',\n",
              "       'Midnight Blue Metallic', 'Yulong', 'Daytona Gray Pearl Effect',\n",
              "       'Navarra Blue', 'Silver Radiance', 'Iridium Metallic',\n",
              "       'Magnetic Black', 'Chronos Gray Metallic', 'Pacific Blue',\n",
              "       'Eiger Grey Metallic', 'White Diamond Tri-Coat', 'Stormy Sea',\n",
              "       'Dark Matter Metallic', 'Billet Clearcoat Metallic',\n",
              "       'Brilliant Silver Metallic', 'Liquid Platinum',\n",
              "       'Vulcano Black Metallic', 'White Frost Tri-Coat', 'Alfa White',\n",
              "       'Star White', 'Titanium Silver', 'Caviar', 'Tango Red Metallic',\n",
              "       'Kodiak Brown Metallic', 'Majestic Plum Metallic', 'Navarre Blue',\n",
              "       'Bronze Dune Metallic', 'Radiant Red Metallic II',\n",
              "       'Dark Moon Blue Metallic', 'Manhattan Noir Metallic',\n",
              "       'Agate Black Metallic', 'Frozen White',\n",
              "       'Phantom Black Pearl Effect / Black Roof', 'Shadow Black',\n",
              "       'Graphite Grey Metallic', 'Emerald Green Metallic',\n",
              "       'Orca Black Metallic', 'Chronos Gray', 'Daytona Gray',\n",
              "       'Billet Silver Metallic Clearcoat', 'Sting Gray Clearcoat',\n",
              "       'Maximum Steel Metallic', 'Carbonized Gray Metallic',\n",
              "       'Ruby Flare Pearl', 'Crimson Red Tintcoat', 'Blueprint',\n",
              "       'Snowflake White Pearl', 'Crystal White Pearl',\n",
              "       'Quicksilver Metallic', 'Carbon Black Metallic',\n",
              "       'Sunset Drift Chromaflair', 'Shadow Gray Metallic',\n",
              "       'Black Sapphire Metallic', 'Quartz Blue Pearl',\n",
              "       'Iridescent Pearl Tricoat', 'Satin Steel Metallic', 'Aurora Black',\n",
              "       'Florett Silver', 'Cajun Red Tintcoat', 'Red Multi',\n",
              "       'Dark Ash Metallic', 'Rich Garnet Metallic', 'Scarlet Ember',\n",
              "       'Black Raven', 'Blue Reflex Mica',\n",
              "       'Snowflake White Pearl Metallic',\n",
              "       'Granite Crystal Metallic Clearcoat', 'Stellar Black Metallic',\n",
              "       'Dark Slate Metallic', 'Stone Gray Metallic', 'Matador Red Mica',\n",
              "       'Barcelona Red', 'Tungsten Metallic', 'Mineral White',\n",
              "       'Siren Red Tintcoat', 'Octane Red Pearlcoat', 'Wolf Gray',\n",
              "       'Obsidian', 'Volcanic Orange', 'Dark Graphite Metallic',\n",
              "       'Phantom Black', 'Crystal Black', 'Red Quartz Tintcoat',\n",
              "       'Carrara White Metallic', 'designo Diamond White Bright',\n",
              "       'Mango Tango Pearlcoat', 'Crystal Black Pearl',\n",
              "       'Eminent White Pearl', 'Lunar Blue Metallic',\n",
              "       'Magnetic Gray Metallic', 'Arctic White', 'Silver Flare Metallic',\n",
              "       'Emin White', 'Ember Pearlcoat', 'Twilight Blue Metallic',\n",
              "       'Burnished Bronze Metallic', 'Ice Silver Metallic',\n",
              "       'Magnetite Gray Metallic', 'Jupiter Red',\n",
              "       'Midnight Silver Metallic', 'Hellayella Clearcoat',\n",
              "       'Ironman Silver', 'Alta White', 'Portofino Gray',\n",
              "       'White Knuckle Clearcoat', 'Nautical Blue Pearl', 'Rosso',\n",
              "       'Graphite Grey', 'Super Black', 'Kinetic Blue',\n",
              "       'Electric Blue Metallic', 'Glacier Blue Metallic', 'Red Obsession',\n",
              "       'Platinum Gray Metallic', 'Remington Red Metallic',\n",
              "       'Reflex Silver', 'Deep Blue Metallic', 'Glacier Silver Metallic',\n",
              "       'Nightfall Gray Metallic', 'Lunar Rock', 'Quartzite Grey Metallic'],\n",
              "      dtype=object)"
            ]
          },
          "metadata": {},
          "execution_count": 182
        }
      ]
    },
    {
      "cell_type": "markdown",
      "source": [
        "###Interior Color"
      ],
      "metadata": {
        "id": "S3qzjEvvWS3S"
      }
    },
    {
      "cell_type": "code",
      "source": [
        "df.int_col.unique()"
      ],
      "metadata": {
        "id": "Lqo8xMqnWUcm",
        "colab": {
          "base_uri": "https://localhost:8080/"
        },
        "outputId": "c1e6c51b-7fe8-4d3b-e599-b5f88e9e7506"
      },
      "execution_count": null,
      "outputs": [
        {
          "output_type": "execute_result",
          "data": {
            "text/plain": [
              "array(['Black', 'Gray', 'Ebony.', 'Green', 'Pimento / Ebony', 'Brown',\n",
              "       '–', 'Beige', 'Jet Black', 'Light Gray', 'Anthracite', 'Red',\n",
              "       'Blue', 'Charcoal', 'Rioja Red', 'Canberra Beige/Black', 'White',\n",
              "       'Roast', 'Ivory / Ebony', 'Silk Beige/Black', 'Medium Pewter',\n",
              "       'Ice', 'Obsidian Black', 'Ebony', 'Orchid', 'Graphite',\n",
              "       'Tan/Ebony', 'Cappuccino', 'Nero', 'Orange', 'BLACK', 'Black Onyx',\n",
              "       'Nougat Brown', 'Titan Black', 'Oyster W/Contrast', 'Silver',\n",
              "       'Macchiato Beige/Black', 'Sand Beige', 'Navy Pier', 'WHITE',\n",
              "       'Parchment.', 'Sarder Brown', 'Cloud', 'Espresso', 'Mesa',\n",
              "       'Whisper Beige', 'Medium Dark Slate', 'Gold', 'Camel Leather',\n",
              "       'Tupelo', 'Parchment', 'Global Black', 'Titan Black / Quarzit',\n",
              "       'Mocha', 'Medium Light Camel', 'Black / Saddle', 'Ash',\n",
              "       'Ebony / Pimento', 'Blk', 'Tan', 'Mistral Gray / Raven',\n",
              "       'Graystone', 'Satin Black', 'Sandstone', 'Medium Stone', 'ORANGE',\n",
              "       'Pimento Red w/Ebony', 'Macchiato', 'Ebony Black', 'Pearl Beige',\n",
              "       'Sakhir Orange', 'Kyalami Orange', 'Almond Beige',\n",
              "       'Medium Earth Gray', 'Diesel Gray / Black', 'Boulder', 'Walnut',\n",
              "       'Charcoal Black', 'Dark Auburn', 'Tan/Ebony/Ebony', 'Amber',\n",
              "       'Silk Beige/Espresso Brown', 'Black / Stone Grey', 'AMG Black',\n",
              "       'Slate', 'BEIGE', 'Canberra Beige', 'Magma Red', 'Saiga Beige',\n",
              "       'Saddle Brown', 'Light Titanium', 'Dark Gray', 'Platinum',\n",
              "       'Ebony/Light Oyster Stitch', 'Shale', 'Red/Black', 'Deep Cypress',\n",
              "       'Ceramic', 'Camel', 'Rhapsody Blue', 'Light Platinum / Jet Black',\n",
              "       'Shara Beige', 'Dark Galvanized', 'Black w/Red Stitching',\n",
              "       'Black/Saddle Brown', 'Light Slate', 'Black/Gun Metal', 'Yellow',\n",
              "       'White / Brown', 'Mountain Brown', 'Aragon Brown', 'Oyster/Black',\n",
              "       'Gideon', 'Chestnut', 'Red / Black', 'Dark Ash',\n",
              "       'Ebony / Ebony Accents', 'Rock Gray', 'Cocoa / Dune',\n",
              "       'Carbon Black', 'Sport', 'Medium Ash Gray', 'Black/Graphite',\n",
              "       'Macchiato/Magmagrey', 'Classic Red', 'Chateau',\n",
              "       'Graphite w/Gun Metal', 'Tension', 'Adrenaline Red',\n",
              "       'Gray w/Blue Bolsters', 'Very Light Cashmere', 'Black / Gray',\n",
              "       'Deep Chestnut', 'Black / Graphite'], dtype=object)"
            ]
          },
          "metadata": {},
          "execution_count": 183
        }
      ]
    },
    {
      "cell_type": "markdown",
      "source": [
        "###Accident"
      ],
      "metadata": {
        "id": "6QxVsYLjWbyH"
      }
    },
    {
      "cell_type": "code",
      "source": [
        "df.accident.unique()"
      ],
      "metadata": {
        "id": "SjgcjOPzWdQT",
        "colab": {
          "base_uri": "https://localhost:8080/"
        },
        "outputId": "7d40a7be-a7fa-4ba8-ab59-ab8cb3c18574"
      },
      "execution_count": null,
      "outputs": [
        {
          "output_type": "execute_result",
          "data": {
            "text/plain": [
              "array(['At least 1 accident or damage reported', 'None reported', nan],\n",
              "      dtype=object)"
            ]
          },
          "metadata": {},
          "execution_count": 184
        }
      ]
    },
    {
      "cell_type": "markdown",
      "source": [
        "###Clean Title"
      ],
      "metadata": {
        "id": "1cyPTGbWXDbZ"
      }
    },
    {
      "cell_type": "code",
      "source": [
        "df.clean_title.unique()"
      ],
      "metadata": {
        "id": "q2SD-yneXEny",
        "colab": {
          "base_uri": "https://localhost:8080/"
        },
        "outputId": "ef933220-768e-453c-8b7b-88ec48019582"
      },
      "execution_count": null,
      "outputs": [
        {
          "output_type": "execute_result",
          "data": {
            "text/plain": [
              "array(['Yes', nan], dtype=object)"
            ]
          },
          "metadata": {},
          "execution_count": 185
        }
      ]
    },
    {
      "cell_type": "markdown",
      "source": [
        "##Preprocessing"
      ],
      "metadata": {
        "id": "TpeLMqveKF3S"
      }
    },
    {
      "cell_type": "code",
      "source": [
        "def one_hot_encode(data, column, values=None):\n",
        "  unique = data[column].unique() if values is None else data[column].unique()\n",
        "  i = 0\n",
        "  for val in unique:\n",
        "    col = data[column].map(lambda x: 1 if x == val else 0)\n",
        "    data.insert(len(df.columns), \"%s-%s\" % (column, val), col)\n",
        "    i += 1\n",
        "    if i > 15:\n",
        "      data = df.copy()\n",
        "      i = 0\n",
        "  return data.drop(columns=column)"
      ],
      "metadata": {
        "id": "oO5xrKDOUZna"
      },
      "execution_count": null,
      "outputs": []
    },
    {
      "cell_type": "markdown",
      "source": [
        "###Model"
      ],
      "metadata": {
        "id": "dQk39yrfKSJc"
      }
    },
    {
      "cell_type": "markdown",
      "source": [
        "One-hot encoding the model makes the dataframe very wide, but it improves the performance of the regressions. Without the model column, the models were performing with ME~16500. The random forest performs better with this column: ~13393"
      ],
      "metadata": {
        "id": "IM-o6wY6WrIX"
      }
    },
    {
      "cell_type": "code",
      "source": [
        "df = one_hot_encode(df, \"model\")\n",
        "df.head()"
      ],
      "metadata": {
        "colab": {
          "base_uri": "https://localhost:8080/",
          "height": 603
        },
        "id": "sHUaUcaqKRPn",
        "outputId": "4ca69eae-bda8-4bf9-ec3e-1a4207016cdc"
      },
      "execution_count": null,
      "outputs": [
        {
          "output_type": "execute_result",
          "data": {
            "text/plain": [
              "      brand  model_year  milage      fuel_type  \\\n",
              "0      Ford        2013   51000  E85 Flex Fuel   \n",
              "1   Hyundai        2021   34742       Gasoline   \n",
              "2     Lexus        2022   22372       Gasoline   \n",
              "3  INFINITI        2015   88900         Hybrid   \n",
              "4      Audi        2021    9835       Gasoline   \n",
              "\n",
              "                                              engine       transmission  \\\n",
              "0  300.0HP 3.7L V6 Cylinder Engine Flex Fuel Capa...        6-Speed A/T   \n",
              "1                               3.8L V6 24V GDI DOHC  8-Speed Automatic   \n",
              "2                                     3.5 Liter DOHC          Automatic   \n",
              "3  354.0HP 3.5L V6 Cylinder Engine Gas/Electric H...        7-Speed A/T   \n",
              "4                         2.0L I4 16V GDI DOHC Turbo  8-Speed Automatic   \n",
              "\n",
              "                  ext_col int_col                                accident  \\\n",
              "0                   Black   Black  At least 1 accident or damage reported   \n",
              "1         Moonlight Cloud    Gray  At least 1 accident or damage reported   \n",
              "2                    Blue   Black                           None reported   \n",
              "3                   Black   Black                           None reported   \n",
              "4  Glacier White Metallic   Black                           None reported   \n",
              "\n",
              "  clean_title  ...  model-Martin DB7 Vantage Volante  model-CT 200h Base  \\\n",
              "0         Yes  ...                                 0                   0   \n",
              "1         Yes  ...                                 0                   0   \n",
              "2         NaN  ...                                 0                   0   \n",
              "3         Yes  ...                                 0                   0   \n",
              "4         NaN  ...                                 0                   0   \n",
              "\n",
              "   model-X3 xDrive28i  model-EcoSport SES  model-SX4 Base  \\\n",
              "0                   0                   0               0   \n",
              "1                   0                   0               0   \n",
              "2                   0                   0               0   \n",
              "3                   0                   0               0   \n",
              "4                   0                   0               0   \n",
              "\n",
              "   model-F-PACE 35t Premium  model-Tundra Grade  model-Prius Two  \\\n",
              "0                         0                   0                0   \n",
              "1                         0                   0                0   \n",
              "2                         0                   0                0   \n",
              "3                         0                   0                0   \n",
              "4                         0                   0                0   \n",
              "\n",
              "   model-M240 i xDrive  model-Escalade Base  \n",
              "0                    0                    0  \n",
              "1                    0                    0  \n",
              "2                    0                    0  \n",
              "3                    0                    0  \n",
              "4                    0                    0  \n",
              "\n",
              "[5 rows x 39 columns]"
            ],
            "text/html": [
              "\n",
              "  <div id=\"df-552df551-f2b1-4785-9494-b97324bc5bfe\" class=\"colab-df-container\">\n",
              "    <div>\n",
              "<style scoped>\n",
              "    .dataframe tbody tr th:only-of-type {\n",
              "        vertical-align: middle;\n",
              "    }\n",
              "\n",
              "    .dataframe tbody tr th {\n",
              "        vertical-align: top;\n",
              "    }\n",
              "\n",
              "    .dataframe thead th {\n",
              "        text-align: right;\n",
              "    }\n",
              "</style>\n",
              "<table border=\"1\" class=\"dataframe\">\n",
              "  <thead>\n",
              "    <tr style=\"text-align: right;\">\n",
              "      <th></th>\n",
              "      <th>brand</th>\n",
              "      <th>model_year</th>\n",
              "      <th>milage</th>\n",
              "      <th>fuel_type</th>\n",
              "      <th>engine</th>\n",
              "      <th>transmission</th>\n",
              "      <th>ext_col</th>\n",
              "      <th>int_col</th>\n",
              "      <th>accident</th>\n",
              "      <th>clean_title</th>\n",
              "      <th>...</th>\n",
              "      <th>model-Martin DB7 Vantage Volante</th>\n",
              "      <th>model-CT 200h Base</th>\n",
              "      <th>model-X3 xDrive28i</th>\n",
              "      <th>model-EcoSport SES</th>\n",
              "      <th>model-SX4 Base</th>\n",
              "      <th>model-F-PACE 35t Premium</th>\n",
              "      <th>model-Tundra Grade</th>\n",
              "      <th>model-Prius Two</th>\n",
              "      <th>model-M240 i xDrive</th>\n",
              "      <th>model-Escalade Base</th>\n",
              "    </tr>\n",
              "  </thead>\n",
              "  <tbody>\n",
              "    <tr>\n",
              "      <th>0</th>\n",
              "      <td>Ford</td>\n",
              "      <td>2013</td>\n",
              "      <td>51000</td>\n",
              "      <td>E85 Flex Fuel</td>\n",
              "      <td>300.0HP 3.7L V6 Cylinder Engine Flex Fuel Capa...</td>\n",
              "      <td>6-Speed A/T</td>\n",
              "      <td>Black</td>\n",
              "      <td>Black</td>\n",
              "      <td>At least 1 accident or damage reported</td>\n",
              "      <td>Yes</td>\n",
              "      <td>...</td>\n",
              "      <td>0</td>\n",
              "      <td>0</td>\n",
              "      <td>0</td>\n",
              "      <td>0</td>\n",
              "      <td>0</td>\n",
              "      <td>0</td>\n",
              "      <td>0</td>\n",
              "      <td>0</td>\n",
              "      <td>0</td>\n",
              "      <td>0</td>\n",
              "    </tr>\n",
              "    <tr>\n",
              "      <th>1</th>\n",
              "      <td>Hyundai</td>\n",
              "      <td>2021</td>\n",
              "      <td>34742</td>\n",
              "      <td>Gasoline</td>\n",
              "      <td>3.8L V6 24V GDI DOHC</td>\n",
              "      <td>8-Speed Automatic</td>\n",
              "      <td>Moonlight Cloud</td>\n",
              "      <td>Gray</td>\n",
              "      <td>At least 1 accident or damage reported</td>\n",
              "      <td>Yes</td>\n",
              "      <td>...</td>\n",
              "      <td>0</td>\n",
              "      <td>0</td>\n",
              "      <td>0</td>\n",
              "      <td>0</td>\n",
              "      <td>0</td>\n",
              "      <td>0</td>\n",
              "      <td>0</td>\n",
              "      <td>0</td>\n",
              "      <td>0</td>\n",
              "      <td>0</td>\n",
              "    </tr>\n",
              "    <tr>\n",
              "      <th>2</th>\n",
              "      <td>Lexus</td>\n",
              "      <td>2022</td>\n",
              "      <td>22372</td>\n",
              "      <td>Gasoline</td>\n",
              "      <td>3.5 Liter DOHC</td>\n",
              "      <td>Automatic</td>\n",
              "      <td>Blue</td>\n",
              "      <td>Black</td>\n",
              "      <td>None reported</td>\n",
              "      <td>NaN</td>\n",
              "      <td>...</td>\n",
              "      <td>0</td>\n",
              "      <td>0</td>\n",
              "      <td>0</td>\n",
              "      <td>0</td>\n",
              "      <td>0</td>\n",
              "      <td>0</td>\n",
              "      <td>0</td>\n",
              "      <td>0</td>\n",
              "      <td>0</td>\n",
              "      <td>0</td>\n",
              "    </tr>\n",
              "    <tr>\n",
              "      <th>3</th>\n",
              "      <td>INFINITI</td>\n",
              "      <td>2015</td>\n",
              "      <td>88900</td>\n",
              "      <td>Hybrid</td>\n",
              "      <td>354.0HP 3.5L V6 Cylinder Engine Gas/Electric H...</td>\n",
              "      <td>7-Speed A/T</td>\n",
              "      <td>Black</td>\n",
              "      <td>Black</td>\n",
              "      <td>None reported</td>\n",
              "      <td>Yes</td>\n",
              "      <td>...</td>\n",
              "      <td>0</td>\n",
              "      <td>0</td>\n",
              "      <td>0</td>\n",
              "      <td>0</td>\n",
              "      <td>0</td>\n",
              "      <td>0</td>\n",
              "      <td>0</td>\n",
              "      <td>0</td>\n",
              "      <td>0</td>\n",
              "      <td>0</td>\n",
              "    </tr>\n",
              "    <tr>\n",
              "      <th>4</th>\n",
              "      <td>Audi</td>\n",
              "      <td>2021</td>\n",
              "      <td>9835</td>\n",
              "      <td>Gasoline</td>\n",
              "      <td>2.0L I4 16V GDI DOHC Turbo</td>\n",
              "      <td>8-Speed Automatic</td>\n",
              "      <td>Glacier White Metallic</td>\n",
              "      <td>Black</td>\n",
              "      <td>None reported</td>\n",
              "      <td>NaN</td>\n",
              "      <td>...</td>\n",
              "      <td>0</td>\n",
              "      <td>0</td>\n",
              "      <td>0</td>\n",
              "      <td>0</td>\n",
              "      <td>0</td>\n",
              "      <td>0</td>\n",
              "      <td>0</td>\n",
              "      <td>0</td>\n",
              "      <td>0</td>\n",
              "      <td>0</td>\n",
              "    </tr>\n",
              "  </tbody>\n",
              "</table>\n",
              "<p>5 rows × 39 columns</p>\n",
              "</div>\n",
              "    <div class=\"colab-df-buttons\">\n",
              "\n",
              "  <div class=\"colab-df-container\">\n",
              "    <button class=\"colab-df-convert\" onclick=\"convertToInteractive('df-552df551-f2b1-4785-9494-b97324bc5bfe')\"\n",
              "            title=\"Convert this dataframe to an interactive table.\"\n",
              "            style=\"display:none;\">\n",
              "\n",
              "  <svg xmlns=\"http://www.w3.org/2000/svg\" height=\"24px\" viewBox=\"0 -960 960 960\">\n",
              "    <path d=\"M120-120v-720h720v720H120Zm60-500h600v-160H180v160Zm220 220h160v-160H400v160Zm0 220h160v-160H400v160ZM180-400h160v-160H180v160Zm440 0h160v-160H620v160ZM180-180h160v-160H180v160Zm440 0h160v-160H620v160Z\"/>\n",
              "  </svg>\n",
              "    </button>\n",
              "\n",
              "  <style>\n",
              "    .colab-df-container {\n",
              "      display:flex;\n",
              "      gap: 12px;\n",
              "    }\n",
              "\n",
              "    .colab-df-convert {\n",
              "      background-color: #E8F0FE;\n",
              "      border: none;\n",
              "      border-radius: 50%;\n",
              "      cursor: pointer;\n",
              "      display: none;\n",
              "      fill: #1967D2;\n",
              "      height: 32px;\n",
              "      padding: 0 0 0 0;\n",
              "      width: 32px;\n",
              "    }\n",
              "\n",
              "    .colab-df-convert:hover {\n",
              "      background-color: #E2EBFA;\n",
              "      box-shadow: 0px 1px 2px rgba(60, 64, 67, 0.3), 0px 1px 3px 1px rgba(60, 64, 67, 0.15);\n",
              "      fill: #174EA6;\n",
              "    }\n",
              "\n",
              "    .colab-df-buttons div {\n",
              "      margin-bottom: 4px;\n",
              "    }\n",
              "\n",
              "    [theme=dark] .colab-df-convert {\n",
              "      background-color: #3B4455;\n",
              "      fill: #D2E3FC;\n",
              "    }\n",
              "\n",
              "    [theme=dark] .colab-df-convert:hover {\n",
              "      background-color: #434B5C;\n",
              "      box-shadow: 0px 1px 3px 1px rgba(0, 0, 0, 0.15);\n",
              "      filter: drop-shadow(0px 1px 2px rgba(0, 0, 0, 0.3));\n",
              "      fill: #FFFFFF;\n",
              "    }\n",
              "  </style>\n",
              "\n",
              "    <script>\n",
              "      const buttonEl =\n",
              "        document.querySelector('#df-552df551-f2b1-4785-9494-b97324bc5bfe button.colab-df-convert');\n",
              "      buttonEl.style.display =\n",
              "        google.colab.kernel.accessAllowed ? 'block' : 'none';\n",
              "\n",
              "      async function convertToInteractive(key) {\n",
              "        const element = document.querySelector('#df-552df551-f2b1-4785-9494-b97324bc5bfe');\n",
              "        const dataTable =\n",
              "          await google.colab.kernel.invokeFunction('convertToInteractive',\n",
              "                                                    [key], {});\n",
              "        if (!dataTable) return;\n",
              "\n",
              "        const docLinkHtml = 'Like what you see? Visit the ' +\n",
              "          '<a target=\"_blank\" href=https://colab.research.google.com/notebooks/data_table.ipynb>data table notebook</a>'\n",
              "          + ' to learn more about interactive tables.';\n",
              "        element.innerHTML = '';\n",
              "        dataTable['output_type'] = 'display_data';\n",
              "        await google.colab.output.renderOutput(dataTable, element);\n",
              "        const docLink = document.createElement('div');\n",
              "        docLink.innerHTML = docLinkHtml;\n",
              "        element.appendChild(docLink);\n",
              "      }\n",
              "    </script>\n",
              "  </div>\n",
              "\n",
              "\n",
              "<div id=\"df-03ffb3c2-f400-44a9-b05d-f7d8d03fb6a0\">\n",
              "  <button class=\"colab-df-quickchart\" onclick=\"quickchart('df-03ffb3c2-f400-44a9-b05d-f7d8d03fb6a0')\"\n",
              "            title=\"Suggest charts.\"\n",
              "            style=\"display:none;\">\n",
              "\n",
              "<svg xmlns=\"http://www.w3.org/2000/svg\" height=\"24px\"viewBox=\"0 0 24 24\"\n",
              "     width=\"24px\">\n",
              "    <g>\n",
              "        <path d=\"M19 3H5c-1.1 0-2 .9-2 2v14c0 1.1.9 2 2 2h14c1.1 0 2-.9 2-2V5c0-1.1-.9-2-2-2zM9 17H7v-7h2v7zm4 0h-2V7h2v10zm4 0h-2v-4h2v4z\"/>\n",
              "    </g>\n",
              "</svg>\n",
              "  </button>\n",
              "\n",
              "<style>\n",
              "  .colab-df-quickchart {\n",
              "      --bg-color: #E8F0FE;\n",
              "      --fill-color: #1967D2;\n",
              "      --hover-bg-color: #E2EBFA;\n",
              "      --hover-fill-color: #174EA6;\n",
              "      --disabled-fill-color: #AAA;\n",
              "      --disabled-bg-color: #DDD;\n",
              "  }\n",
              "\n",
              "  [theme=dark] .colab-df-quickchart {\n",
              "      --bg-color: #3B4455;\n",
              "      --fill-color: #D2E3FC;\n",
              "      --hover-bg-color: #434B5C;\n",
              "      --hover-fill-color: #FFFFFF;\n",
              "      --disabled-bg-color: #3B4455;\n",
              "      --disabled-fill-color: #666;\n",
              "  }\n",
              "\n",
              "  .colab-df-quickchart {\n",
              "    background-color: var(--bg-color);\n",
              "    border: none;\n",
              "    border-radius: 50%;\n",
              "    cursor: pointer;\n",
              "    display: none;\n",
              "    fill: var(--fill-color);\n",
              "    height: 32px;\n",
              "    padding: 0;\n",
              "    width: 32px;\n",
              "  }\n",
              "\n",
              "  .colab-df-quickchart:hover {\n",
              "    background-color: var(--hover-bg-color);\n",
              "    box-shadow: 0 1px 2px rgba(60, 64, 67, 0.3), 0 1px 3px 1px rgba(60, 64, 67, 0.15);\n",
              "    fill: var(--button-hover-fill-color);\n",
              "  }\n",
              "\n",
              "  .colab-df-quickchart-complete:disabled,\n",
              "  .colab-df-quickchart-complete:disabled:hover {\n",
              "    background-color: var(--disabled-bg-color);\n",
              "    fill: var(--disabled-fill-color);\n",
              "    box-shadow: none;\n",
              "  }\n",
              "\n",
              "  .colab-df-spinner {\n",
              "    border: 2px solid var(--fill-color);\n",
              "    border-color: transparent;\n",
              "    border-bottom-color: var(--fill-color);\n",
              "    animation:\n",
              "      spin 1s steps(1) infinite;\n",
              "  }\n",
              "\n",
              "  @keyframes spin {\n",
              "    0% {\n",
              "      border-color: transparent;\n",
              "      border-bottom-color: var(--fill-color);\n",
              "      border-left-color: var(--fill-color);\n",
              "    }\n",
              "    20% {\n",
              "      border-color: transparent;\n",
              "      border-left-color: var(--fill-color);\n",
              "      border-top-color: var(--fill-color);\n",
              "    }\n",
              "    30% {\n",
              "      border-color: transparent;\n",
              "      border-left-color: var(--fill-color);\n",
              "      border-top-color: var(--fill-color);\n",
              "      border-right-color: var(--fill-color);\n",
              "    }\n",
              "    40% {\n",
              "      border-color: transparent;\n",
              "      border-right-color: var(--fill-color);\n",
              "      border-top-color: var(--fill-color);\n",
              "    }\n",
              "    60% {\n",
              "      border-color: transparent;\n",
              "      border-right-color: var(--fill-color);\n",
              "    }\n",
              "    80% {\n",
              "      border-color: transparent;\n",
              "      border-right-color: var(--fill-color);\n",
              "      border-bottom-color: var(--fill-color);\n",
              "    }\n",
              "    90% {\n",
              "      border-color: transparent;\n",
              "      border-bottom-color: var(--fill-color);\n",
              "    }\n",
              "  }\n",
              "</style>\n",
              "\n",
              "  <script>\n",
              "    async function quickchart(key) {\n",
              "      const quickchartButtonEl =\n",
              "        document.querySelector('#' + key + ' button');\n",
              "      quickchartButtonEl.disabled = true;  // To prevent multiple clicks.\n",
              "      quickchartButtonEl.classList.add('colab-df-spinner');\n",
              "      try {\n",
              "        const charts = await google.colab.kernel.invokeFunction(\n",
              "            'suggestCharts', [key], {});\n",
              "      } catch (error) {\n",
              "        console.error('Error during call to suggestCharts:', error);\n",
              "      }\n",
              "      quickchartButtonEl.classList.remove('colab-df-spinner');\n",
              "      quickchartButtonEl.classList.add('colab-df-quickchart-complete');\n",
              "    }\n",
              "    (() => {\n",
              "      let quickchartButtonEl =\n",
              "        document.querySelector('#df-03ffb3c2-f400-44a9-b05d-f7d8d03fb6a0 button');\n",
              "      quickchartButtonEl.style.display =\n",
              "        google.colab.kernel.accessAllowed ? 'block' : 'none';\n",
              "    })();\n",
              "  </script>\n",
              "</div>\n",
              "    </div>\n",
              "  </div>\n"
            ]
          },
          "metadata": {},
          "execution_count": 187
        }
      ]
    },
    {
      "cell_type": "markdown",
      "source": [
        "###Brand"
      ],
      "metadata": {
        "id": "OfUVbPrLMXx1"
      }
    },
    {
      "cell_type": "code",
      "source": [
        "df = one_hot_encode(df, \"brand\")\n",
        "df.head()"
      ],
      "metadata": {
        "colab": {
          "base_uri": "https://localhost:8080/",
          "height": 551
        },
        "id": "Ww1PnTgRMaSw",
        "outputId": "8a07ea82-f7f8-4c2b-cc06-162d12a1c723"
      },
      "execution_count": null,
      "outputs": [
        {
          "output_type": "execute_result",
          "data": {
            "text/plain": [
              "   model_year  milage      fuel_type  \\\n",
              "0        2013   51000  E85 Flex Fuel   \n",
              "1        2021   34742       Gasoline   \n",
              "2        2022   22372       Gasoline   \n",
              "3        2015   88900         Hybrid   \n",
              "4        2021    9835       Gasoline   \n",
              "\n",
              "                                              engine       transmission  \\\n",
              "0  300.0HP 3.7L V6 Cylinder Engine Flex Fuel Capa...        6-Speed A/T   \n",
              "1                               3.8L V6 24V GDI DOHC  8-Speed Automatic   \n",
              "2                                     3.5 Liter DOHC          Automatic   \n",
              "3  354.0HP 3.5L V6 Cylinder Engine Gas/Electric H...        7-Speed A/T   \n",
              "4                         2.0L I4 16V GDI DOHC Turbo  8-Speed Automatic   \n",
              "\n",
              "                  ext_col int_col                                accident  \\\n",
              "0                   Black   Black  At least 1 accident or damage reported   \n",
              "1         Moonlight Cloud    Gray  At least 1 accident or damage reported   \n",
              "2                    Blue   Black                           None reported   \n",
              "3                   Black   Black                           None reported   \n",
              "4  Glacier White Metallic   Black                           None reported   \n",
              "\n",
              "  clean_title  price  ...  brand-Jaguar  brand-Dodge  brand-Nissan  \\\n",
              "0         Yes  10300  ...             0            0             0   \n",
              "1         Yes  38005  ...             0            0             0   \n",
              "2         NaN  54598  ...             0            0             0   \n",
              "3         Yes  15500  ...             0            0             0   \n",
              "4         NaN  34999  ...             0            0             0   \n",
              "\n",
              "   brand-Genesis  brand-Chevrolet  brand-Suzuki  brand-Maybach  brand-smart  \\\n",
              "0              0                0             0              0            0   \n",
              "1              0                0             0              0            0   \n",
              "2              0                0             0              0            0   \n",
              "3              0                0             0              0            0   \n",
              "4              0                0             0              0            0   \n",
              "\n",
              "   brand-Plymouth  brand-Pontiac  \n",
              "0               0              0  \n",
              "1               0              0  \n",
              "2               0              0  \n",
              "3               0              0  \n",
              "4               0              0  \n",
              "\n",
              "[5 rows x 59 columns]"
            ],
            "text/html": [
              "\n",
              "  <div id=\"df-218f432b-6381-4be3-b8f1-3e5cdd6f500f\" class=\"colab-df-container\">\n",
              "    <div>\n",
              "<style scoped>\n",
              "    .dataframe tbody tr th:only-of-type {\n",
              "        vertical-align: middle;\n",
              "    }\n",
              "\n",
              "    .dataframe tbody tr th {\n",
              "        vertical-align: top;\n",
              "    }\n",
              "\n",
              "    .dataframe thead th {\n",
              "        text-align: right;\n",
              "    }\n",
              "</style>\n",
              "<table border=\"1\" class=\"dataframe\">\n",
              "  <thead>\n",
              "    <tr style=\"text-align: right;\">\n",
              "      <th></th>\n",
              "      <th>model_year</th>\n",
              "      <th>milage</th>\n",
              "      <th>fuel_type</th>\n",
              "      <th>engine</th>\n",
              "      <th>transmission</th>\n",
              "      <th>ext_col</th>\n",
              "      <th>int_col</th>\n",
              "      <th>accident</th>\n",
              "      <th>clean_title</th>\n",
              "      <th>price</th>\n",
              "      <th>...</th>\n",
              "      <th>brand-Jaguar</th>\n",
              "      <th>brand-Dodge</th>\n",
              "      <th>brand-Nissan</th>\n",
              "      <th>brand-Genesis</th>\n",
              "      <th>brand-Chevrolet</th>\n",
              "      <th>brand-Suzuki</th>\n",
              "      <th>brand-Maybach</th>\n",
              "      <th>brand-smart</th>\n",
              "      <th>brand-Plymouth</th>\n",
              "      <th>brand-Pontiac</th>\n",
              "    </tr>\n",
              "  </thead>\n",
              "  <tbody>\n",
              "    <tr>\n",
              "      <th>0</th>\n",
              "      <td>2013</td>\n",
              "      <td>51000</td>\n",
              "      <td>E85 Flex Fuel</td>\n",
              "      <td>300.0HP 3.7L V6 Cylinder Engine Flex Fuel Capa...</td>\n",
              "      <td>6-Speed A/T</td>\n",
              "      <td>Black</td>\n",
              "      <td>Black</td>\n",
              "      <td>At least 1 accident or damage reported</td>\n",
              "      <td>Yes</td>\n",
              "      <td>10300</td>\n",
              "      <td>...</td>\n",
              "      <td>0</td>\n",
              "      <td>0</td>\n",
              "      <td>0</td>\n",
              "      <td>0</td>\n",
              "      <td>0</td>\n",
              "      <td>0</td>\n",
              "      <td>0</td>\n",
              "      <td>0</td>\n",
              "      <td>0</td>\n",
              "      <td>0</td>\n",
              "    </tr>\n",
              "    <tr>\n",
              "      <th>1</th>\n",
              "      <td>2021</td>\n",
              "      <td>34742</td>\n",
              "      <td>Gasoline</td>\n",
              "      <td>3.8L V6 24V GDI DOHC</td>\n",
              "      <td>8-Speed Automatic</td>\n",
              "      <td>Moonlight Cloud</td>\n",
              "      <td>Gray</td>\n",
              "      <td>At least 1 accident or damage reported</td>\n",
              "      <td>Yes</td>\n",
              "      <td>38005</td>\n",
              "      <td>...</td>\n",
              "      <td>0</td>\n",
              "      <td>0</td>\n",
              "      <td>0</td>\n",
              "      <td>0</td>\n",
              "      <td>0</td>\n",
              "      <td>0</td>\n",
              "      <td>0</td>\n",
              "      <td>0</td>\n",
              "      <td>0</td>\n",
              "      <td>0</td>\n",
              "    </tr>\n",
              "    <tr>\n",
              "      <th>2</th>\n",
              "      <td>2022</td>\n",
              "      <td>22372</td>\n",
              "      <td>Gasoline</td>\n",
              "      <td>3.5 Liter DOHC</td>\n",
              "      <td>Automatic</td>\n",
              "      <td>Blue</td>\n",
              "      <td>Black</td>\n",
              "      <td>None reported</td>\n",
              "      <td>NaN</td>\n",
              "      <td>54598</td>\n",
              "      <td>...</td>\n",
              "      <td>0</td>\n",
              "      <td>0</td>\n",
              "      <td>0</td>\n",
              "      <td>0</td>\n",
              "      <td>0</td>\n",
              "      <td>0</td>\n",
              "      <td>0</td>\n",
              "      <td>0</td>\n",
              "      <td>0</td>\n",
              "      <td>0</td>\n",
              "    </tr>\n",
              "    <tr>\n",
              "      <th>3</th>\n",
              "      <td>2015</td>\n",
              "      <td>88900</td>\n",
              "      <td>Hybrid</td>\n",
              "      <td>354.0HP 3.5L V6 Cylinder Engine Gas/Electric H...</td>\n",
              "      <td>7-Speed A/T</td>\n",
              "      <td>Black</td>\n",
              "      <td>Black</td>\n",
              "      <td>None reported</td>\n",
              "      <td>Yes</td>\n",
              "      <td>15500</td>\n",
              "      <td>...</td>\n",
              "      <td>0</td>\n",
              "      <td>0</td>\n",
              "      <td>0</td>\n",
              "      <td>0</td>\n",
              "      <td>0</td>\n",
              "      <td>0</td>\n",
              "      <td>0</td>\n",
              "      <td>0</td>\n",
              "      <td>0</td>\n",
              "      <td>0</td>\n",
              "    </tr>\n",
              "    <tr>\n",
              "      <th>4</th>\n",
              "      <td>2021</td>\n",
              "      <td>9835</td>\n",
              "      <td>Gasoline</td>\n",
              "      <td>2.0L I4 16V GDI DOHC Turbo</td>\n",
              "      <td>8-Speed Automatic</td>\n",
              "      <td>Glacier White Metallic</td>\n",
              "      <td>Black</td>\n",
              "      <td>None reported</td>\n",
              "      <td>NaN</td>\n",
              "      <td>34999</td>\n",
              "      <td>...</td>\n",
              "      <td>0</td>\n",
              "      <td>0</td>\n",
              "      <td>0</td>\n",
              "      <td>0</td>\n",
              "      <td>0</td>\n",
              "      <td>0</td>\n",
              "      <td>0</td>\n",
              "      <td>0</td>\n",
              "      <td>0</td>\n",
              "      <td>0</td>\n",
              "    </tr>\n",
              "  </tbody>\n",
              "</table>\n",
              "<p>5 rows × 59 columns</p>\n",
              "</div>\n",
              "    <div class=\"colab-df-buttons\">\n",
              "\n",
              "  <div class=\"colab-df-container\">\n",
              "    <button class=\"colab-df-convert\" onclick=\"convertToInteractive('df-218f432b-6381-4be3-b8f1-3e5cdd6f500f')\"\n",
              "            title=\"Convert this dataframe to an interactive table.\"\n",
              "            style=\"display:none;\">\n",
              "\n",
              "  <svg xmlns=\"http://www.w3.org/2000/svg\" height=\"24px\" viewBox=\"0 -960 960 960\">\n",
              "    <path d=\"M120-120v-720h720v720H120Zm60-500h600v-160H180v160Zm220 220h160v-160H400v160Zm0 220h160v-160H400v160ZM180-400h160v-160H180v160Zm440 0h160v-160H620v160ZM180-180h160v-160H180v160Zm440 0h160v-160H620v160Z\"/>\n",
              "  </svg>\n",
              "    </button>\n",
              "\n",
              "  <style>\n",
              "    .colab-df-container {\n",
              "      display:flex;\n",
              "      gap: 12px;\n",
              "    }\n",
              "\n",
              "    .colab-df-convert {\n",
              "      background-color: #E8F0FE;\n",
              "      border: none;\n",
              "      border-radius: 50%;\n",
              "      cursor: pointer;\n",
              "      display: none;\n",
              "      fill: #1967D2;\n",
              "      height: 32px;\n",
              "      padding: 0 0 0 0;\n",
              "      width: 32px;\n",
              "    }\n",
              "\n",
              "    .colab-df-convert:hover {\n",
              "      background-color: #E2EBFA;\n",
              "      box-shadow: 0px 1px 2px rgba(60, 64, 67, 0.3), 0px 1px 3px 1px rgba(60, 64, 67, 0.15);\n",
              "      fill: #174EA6;\n",
              "    }\n",
              "\n",
              "    .colab-df-buttons div {\n",
              "      margin-bottom: 4px;\n",
              "    }\n",
              "\n",
              "    [theme=dark] .colab-df-convert {\n",
              "      background-color: #3B4455;\n",
              "      fill: #D2E3FC;\n",
              "    }\n",
              "\n",
              "    [theme=dark] .colab-df-convert:hover {\n",
              "      background-color: #434B5C;\n",
              "      box-shadow: 0px 1px 3px 1px rgba(0, 0, 0, 0.15);\n",
              "      filter: drop-shadow(0px 1px 2px rgba(0, 0, 0, 0.3));\n",
              "      fill: #FFFFFF;\n",
              "    }\n",
              "  </style>\n",
              "\n",
              "    <script>\n",
              "      const buttonEl =\n",
              "        document.querySelector('#df-218f432b-6381-4be3-b8f1-3e5cdd6f500f button.colab-df-convert');\n",
              "      buttonEl.style.display =\n",
              "        google.colab.kernel.accessAllowed ? 'block' : 'none';\n",
              "\n",
              "      async function convertToInteractive(key) {\n",
              "        const element = document.querySelector('#df-218f432b-6381-4be3-b8f1-3e5cdd6f500f');\n",
              "        const dataTable =\n",
              "          await google.colab.kernel.invokeFunction('convertToInteractive',\n",
              "                                                    [key], {});\n",
              "        if (!dataTable) return;\n",
              "\n",
              "        const docLinkHtml = 'Like what you see? Visit the ' +\n",
              "          '<a target=\"_blank\" href=https://colab.research.google.com/notebooks/data_table.ipynb>data table notebook</a>'\n",
              "          + ' to learn more about interactive tables.';\n",
              "        element.innerHTML = '';\n",
              "        dataTable['output_type'] = 'display_data';\n",
              "        await google.colab.output.renderOutput(dataTable, element);\n",
              "        const docLink = document.createElement('div');\n",
              "        docLink.innerHTML = docLinkHtml;\n",
              "        element.appendChild(docLink);\n",
              "      }\n",
              "    </script>\n",
              "  </div>\n",
              "\n",
              "\n",
              "<div id=\"df-69a74b43-3661-40a5-91fb-be9f048efc56\">\n",
              "  <button class=\"colab-df-quickchart\" onclick=\"quickchart('df-69a74b43-3661-40a5-91fb-be9f048efc56')\"\n",
              "            title=\"Suggest charts.\"\n",
              "            style=\"display:none;\">\n",
              "\n",
              "<svg xmlns=\"http://www.w3.org/2000/svg\" height=\"24px\"viewBox=\"0 0 24 24\"\n",
              "     width=\"24px\">\n",
              "    <g>\n",
              "        <path d=\"M19 3H5c-1.1 0-2 .9-2 2v14c0 1.1.9 2 2 2h14c1.1 0 2-.9 2-2V5c0-1.1-.9-2-2-2zM9 17H7v-7h2v7zm4 0h-2V7h2v10zm4 0h-2v-4h2v4z\"/>\n",
              "    </g>\n",
              "</svg>\n",
              "  </button>\n",
              "\n",
              "<style>\n",
              "  .colab-df-quickchart {\n",
              "      --bg-color: #E8F0FE;\n",
              "      --fill-color: #1967D2;\n",
              "      --hover-bg-color: #E2EBFA;\n",
              "      --hover-fill-color: #174EA6;\n",
              "      --disabled-fill-color: #AAA;\n",
              "      --disabled-bg-color: #DDD;\n",
              "  }\n",
              "\n",
              "  [theme=dark] .colab-df-quickchart {\n",
              "      --bg-color: #3B4455;\n",
              "      --fill-color: #D2E3FC;\n",
              "      --hover-bg-color: #434B5C;\n",
              "      --hover-fill-color: #FFFFFF;\n",
              "      --disabled-bg-color: #3B4455;\n",
              "      --disabled-fill-color: #666;\n",
              "  }\n",
              "\n",
              "  .colab-df-quickchart {\n",
              "    background-color: var(--bg-color);\n",
              "    border: none;\n",
              "    border-radius: 50%;\n",
              "    cursor: pointer;\n",
              "    display: none;\n",
              "    fill: var(--fill-color);\n",
              "    height: 32px;\n",
              "    padding: 0;\n",
              "    width: 32px;\n",
              "  }\n",
              "\n",
              "  .colab-df-quickchart:hover {\n",
              "    background-color: var(--hover-bg-color);\n",
              "    box-shadow: 0 1px 2px rgba(60, 64, 67, 0.3), 0 1px 3px 1px rgba(60, 64, 67, 0.15);\n",
              "    fill: var(--button-hover-fill-color);\n",
              "  }\n",
              "\n",
              "  .colab-df-quickchart-complete:disabled,\n",
              "  .colab-df-quickchart-complete:disabled:hover {\n",
              "    background-color: var(--disabled-bg-color);\n",
              "    fill: var(--disabled-fill-color);\n",
              "    box-shadow: none;\n",
              "  }\n",
              "\n",
              "  .colab-df-spinner {\n",
              "    border: 2px solid var(--fill-color);\n",
              "    border-color: transparent;\n",
              "    border-bottom-color: var(--fill-color);\n",
              "    animation:\n",
              "      spin 1s steps(1) infinite;\n",
              "  }\n",
              "\n",
              "  @keyframes spin {\n",
              "    0% {\n",
              "      border-color: transparent;\n",
              "      border-bottom-color: var(--fill-color);\n",
              "      border-left-color: var(--fill-color);\n",
              "    }\n",
              "    20% {\n",
              "      border-color: transparent;\n",
              "      border-left-color: var(--fill-color);\n",
              "      border-top-color: var(--fill-color);\n",
              "    }\n",
              "    30% {\n",
              "      border-color: transparent;\n",
              "      border-left-color: var(--fill-color);\n",
              "      border-top-color: var(--fill-color);\n",
              "      border-right-color: var(--fill-color);\n",
              "    }\n",
              "    40% {\n",
              "      border-color: transparent;\n",
              "      border-right-color: var(--fill-color);\n",
              "      border-top-color: var(--fill-color);\n",
              "    }\n",
              "    60% {\n",
              "      border-color: transparent;\n",
              "      border-right-color: var(--fill-color);\n",
              "    }\n",
              "    80% {\n",
              "      border-color: transparent;\n",
              "      border-right-color: var(--fill-color);\n",
              "      border-bottom-color: var(--fill-color);\n",
              "    }\n",
              "    90% {\n",
              "      border-color: transparent;\n",
              "      border-bottom-color: var(--fill-color);\n",
              "    }\n",
              "  }\n",
              "</style>\n",
              "\n",
              "  <script>\n",
              "    async function quickchart(key) {\n",
              "      const quickchartButtonEl =\n",
              "        document.querySelector('#' + key + ' button');\n",
              "      quickchartButtonEl.disabled = true;  // To prevent multiple clicks.\n",
              "      quickchartButtonEl.classList.add('colab-df-spinner');\n",
              "      try {\n",
              "        const charts = await google.colab.kernel.invokeFunction(\n",
              "            'suggestCharts', [key], {});\n",
              "      } catch (error) {\n",
              "        console.error('Error during call to suggestCharts:', error);\n",
              "      }\n",
              "      quickchartButtonEl.classList.remove('colab-df-spinner');\n",
              "      quickchartButtonEl.classList.add('colab-df-quickchart-complete');\n",
              "    }\n",
              "    (() => {\n",
              "      let quickchartButtonEl =\n",
              "        document.querySelector('#df-69a74b43-3661-40a5-91fb-be9f048efc56 button');\n",
              "      quickchartButtonEl.style.display =\n",
              "        google.colab.kernel.accessAllowed ? 'block' : 'none';\n",
              "    })();\n",
              "  </script>\n",
              "</div>\n",
              "    </div>\n",
              "  </div>\n"
            ]
          },
          "metadata": {},
          "execution_count": 188
        }
      ]
    },
    {
      "cell_type": "markdown",
      "source": [
        "###Engine"
      ],
      "metadata": {
        "id": "F2mT62U1L7ED"
      }
    },
    {
      "cell_type": "code",
      "source": [
        "df.engine.describe()"
      ],
      "metadata": {
        "colab": {
          "base_uri": "https://localhost:8080/"
        },
        "id": "zQ7iRjS68Hyn",
        "outputId": "6b739aa0-a24c-4f60-b067-e134906b8c61"
      },
      "execution_count": null,
      "outputs": [
        {
          "output_type": "execute_result",
          "data": {
            "text/plain": [
              "count                                             3699\n",
              "unique                                            1038\n",
              "top       355.0HP 5.3L 8 Cylinder Engine Gasoline Fuel\n",
              "freq                                                48\n",
              "Name: engine, dtype: object"
            ]
          },
          "metadata": {},
          "execution_count": 189
        }
      ]
    },
    {
      "cell_type": "code",
      "source": [
        "def extract_horsepower(x):\n",
        "  hp = re.search(\"[\\d\\.]+ ?HP\", x, re.IGNORECASE)\n",
        "  if hp is None:\n",
        "    return 0\n",
        "  return float(re.search(\"[\\d\\.]*\", hp.group(0)).group(0))"
      ],
      "metadata": {
        "id": "5LVDIYCWBFi6"
      },
      "execution_count": null,
      "outputs": []
    },
    {
      "cell_type": "code",
      "source": [
        "df[\"horsepower\"] = df.engine.map(extract_horsepower)"
      ],
      "metadata": {
        "id": "CJxcME6yAUz8"
      },
      "execution_count": null,
      "outputs": []
    },
    {
      "cell_type": "code",
      "source": [
        "def extract_displacement(x):\n",
        "  displacement = re.search(\"[\\d\\.]+ ?L\", x, re.IGNORECASE)\n",
        "  if displacement is None:\n",
        "    return 0\n",
        "  return float(re.search(\"[\\d\\.]*\", displacement.group(0)).group(0))\n"
      ],
      "metadata": {
        "id": "OwQSBycZEhT_"
      },
      "execution_count": null,
      "outputs": []
    },
    {
      "cell_type": "code",
      "source": [
        "df.engine = df.engine.map(extract_displacement)"
      ],
      "metadata": {
        "id": "ZE_A_d6hFpiZ"
      },
      "execution_count": null,
      "outputs": []
    },
    {
      "cell_type": "code",
      "source": [
        "df = df.drop(columns=\"engine\")"
      ],
      "metadata": {
        "id": "W79co8x1L9Um"
      },
      "execution_count": null,
      "outputs": []
    },
    {
      "cell_type": "markdown",
      "source": [
        "###Fuel Type"
      ],
      "metadata": {
        "id": "OYQD7vsWMISN"
      }
    },
    {
      "cell_type": "code",
      "source": [
        "df.fuel_type = df.fuel_type.map(\n",
        "    {\"-\": float(\"nan\"),\n",
        "     \"not supported\": float(\"nan\"),\n",
        "     \"E85 Flex Fuel\": \"E85 Flex Fuel\",\n",
        "     \"Gasoline\": \"Gasoline\",\n",
        "     \"Hybrid\": \"Hybrid\",\n",
        "     \"Diesel\": \"Diesel\",\n",
        "     \"Plug-In Hybrid\": \"Plug-In Hybrid\"})"
      ],
      "metadata": {
        "id": "V7VEWTwBMKYj"
      },
      "execution_count": null,
      "outputs": []
    },
    {
      "cell_type": "code",
      "source": [
        "df = one_hot_encode(df, \"fuel_type\", filter(lambda x: not type(x) == str and not math.isnan(x), df.fuel_type.unique()))\n",
        "df.head()"
      ],
      "metadata": {
        "colab": {
          "base_uri": "https://localhost:8080/",
          "height": 499
        },
        "id": "ZRkAff_mQGHC",
        "outputId": "69a56702-224c-4a39-f0fe-dd00332de688"
      },
      "execution_count": null,
      "outputs": [
        {
          "output_type": "execute_result",
          "data": {
            "text/plain": [
              "   model_year  milage       transmission                 ext_col int_col  \\\n",
              "0        2013   51000        6-Speed A/T                   Black   Black   \n",
              "1        2021   34742  8-Speed Automatic         Moonlight Cloud    Gray   \n",
              "2        2022   22372          Automatic                    Blue   Black   \n",
              "3        2015   88900        7-Speed A/T                   Black   Black   \n",
              "4        2021    9835  8-Speed Automatic  Glacier White Metallic   Black   \n",
              "\n",
              "                                 accident clean_title  price  \\\n",
              "0  At least 1 accident or damage reported         Yes  10300   \n",
              "1  At least 1 accident or damage reported         Yes  38005   \n",
              "2                           None reported         NaN  54598   \n",
              "3                           None reported         Yes  15500   \n",
              "4                           None reported         NaN  34999   \n",
              "\n",
              "   model-Utility Police Interceptor Base  model-Palisade SEL  ...  \\\n",
              "0                                      1                   0  ...   \n",
              "1                                      0                   1  ...   \n",
              "2                                      0                   0  ...   \n",
              "3                                      0                   0  ...   \n",
              "4                                      0                   0  ...   \n",
              "\n",
              "   brand-smart  brand-Plymouth  brand-Pontiac  horsepower  \\\n",
              "0            0               0              0       300.0   \n",
              "1            0               0              0         0.0   \n",
              "2            0               0              0         0.0   \n",
              "3            0               0              0       354.0   \n",
              "4            0               0              0         0.0   \n",
              "\n",
              "   fuel_type-E85 Flex Fuel  fuel_type-Gasoline  fuel_type-Hybrid  \\\n",
              "0                        1                   0                 0   \n",
              "1                        0                   1                 0   \n",
              "2                        0                   1                 0   \n",
              "3                        0                   0                 1   \n",
              "4                        0                   1                 0   \n",
              "\n",
              "   fuel_type-nan  fuel_type-Diesel  fuel_type-Plug-In Hybrid  \n",
              "0              0                 0                         0  \n",
              "1              0                 0                         0  \n",
              "2              0                 0                         0  \n",
              "3              0                 0                         0  \n",
              "4              0                 0                         0  \n",
              "\n",
              "[5 rows x 64 columns]"
            ],
            "text/html": [
              "\n",
              "  <div id=\"df-c1efac6b-868b-40da-8683-11389d95e3c8\" class=\"colab-df-container\">\n",
              "    <div>\n",
              "<style scoped>\n",
              "    .dataframe tbody tr th:only-of-type {\n",
              "        vertical-align: middle;\n",
              "    }\n",
              "\n",
              "    .dataframe tbody tr th {\n",
              "        vertical-align: top;\n",
              "    }\n",
              "\n",
              "    .dataframe thead th {\n",
              "        text-align: right;\n",
              "    }\n",
              "</style>\n",
              "<table border=\"1\" class=\"dataframe\">\n",
              "  <thead>\n",
              "    <tr style=\"text-align: right;\">\n",
              "      <th></th>\n",
              "      <th>model_year</th>\n",
              "      <th>milage</th>\n",
              "      <th>transmission</th>\n",
              "      <th>ext_col</th>\n",
              "      <th>int_col</th>\n",
              "      <th>accident</th>\n",
              "      <th>clean_title</th>\n",
              "      <th>price</th>\n",
              "      <th>model-Utility Police Interceptor Base</th>\n",
              "      <th>model-Palisade SEL</th>\n",
              "      <th>...</th>\n",
              "      <th>brand-smart</th>\n",
              "      <th>brand-Plymouth</th>\n",
              "      <th>brand-Pontiac</th>\n",
              "      <th>horsepower</th>\n",
              "      <th>fuel_type-E85 Flex Fuel</th>\n",
              "      <th>fuel_type-Gasoline</th>\n",
              "      <th>fuel_type-Hybrid</th>\n",
              "      <th>fuel_type-nan</th>\n",
              "      <th>fuel_type-Diesel</th>\n",
              "      <th>fuel_type-Plug-In Hybrid</th>\n",
              "    </tr>\n",
              "  </thead>\n",
              "  <tbody>\n",
              "    <tr>\n",
              "      <th>0</th>\n",
              "      <td>2013</td>\n",
              "      <td>51000</td>\n",
              "      <td>6-Speed A/T</td>\n",
              "      <td>Black</td>\n",
              "      <td>Black</td>\n",
              "      <td>At least 1 accident or damage reported</td>\n",
              "      <td>Yes</td>\n",
              "      <td>10300</td>\n",
              "      <td>1</td>\n",
              "      <td>0</td>\n",
              "      <td>...</td>\n",
              "      <td>0</td>\n",
              "      <td>0</td>\n",
              "      <td>0</td>\n",
              "      <td>300.0</td>\n",
              "      <td>1</td>\n",
              "      <td>0</td>\n",
              "      <td>0</td>\n",
              "      <td>0</td>\n",
              "      <td>0</td>\n",
              "      <td>0</td>\n",
              "    </tr>\n",
              "    <tr>\n",
              "      <th>1</th>\n",
              "      <td>2021</td>\n",
              "      <td>34742</td>\n",
              "      <td>8-Speed Automatic</td>\n",
              "      <td>Moonlight Cloud</td>\n",
              "      <td>Gray</td>\n",
              "      <td>At least 1 accident or damage reported</td>\n",
              "      <td>Yes</td>\n",
              "      <td>38005</td>\n",
              "      <td>0</td>\n",
              "      <td>1</td>\n",
              "      <td>...</td>\n",
              "      <td>0</td>\n",
              "      <td>0</td>\n",
              "      <td>0</td>\n",
              "      <td>0.0</td>\n",
              "      <td>0</td>\n",
              "      <td>1</td>\n",
              "      <td>0</td>\n",
              "      <td>0</td>\n",
              "      <td>0</td>\n",
              "      <td>0</td>\n",
              "    </tr>\n",
              "    <tr>\n",
              "      <th>2</th>\n",
              "      <td>2022</td>\n",
              "      <td>22372</td>\n",
              "      <td>Automatic</td>\n",
              "      <td>Blue</td>\n",
              "      <td>Black</td>\n",
              "      <td>None reported</td>\n",
              "      <td>NaN</td>\n",
              "      <td>54598</td>\n",
              "      <td>0</td>\n",
              "      <td>0</td>\n",
              "      <td>...</td>\n",
              "      <td>0</td>\n",
              "      <td>0</td>\n",
              "      <td>0</td>\n",
              "      <td>0.0</td>\n",
              "      <td>0</td>\n",
              "      <td>1</td>\n",
              "      <td>0</td>\n",
              "      <td>0</td>\n",
              "      <td>0</td>\n",
              "      <td>0</td>\n",
              "    </tr>\n",
              "    <tr>\n",
              "      <th>3</th>\n",
              "      <td>2015</td>\n",
              "      <td>88900</td>\n",
              "      <td>7-Speed A/T</td>\n",
              "      <td>Black</td>\n",
              "      <td>Black</td>\n",
              "      <td>None reported</td>\n",
              "      <td>Yes</td>\n",
              "      <td>15500</td>\n",
              "      <td>0</td>\n",
              "      <td>0</td>\n",
              "      <td>...</td>\n",
              "      <td>0</td>\n",
              "      <td>0</td>\n",
              "      <td>0</td>\n",
              "      <td>354.0</td>\n",
              "      <td>0</td>\n",
              "      <td>0</td>\n",
              "      <td>1</td>\n",
              "      <td>0</td>\n",
              "      <td>0</td>\n",
              "      <td>0</td>\n",
              "    </tr>\n",
              "    <tr>\n",
              "      <th>4</th>\n",
              "      <td>2021</td>\n",
              "      <td>9835</td>\n",
              "      <td>8-Speed Automatic</td>\n",
              "      <td>Glacier White Metallic</td>\n",
              "      <td>Black</td>\n",
              "      <td>None reported</td>\n",
              "      <td>NaN</td>\n",
              "      <td>34999</td>\n",
              "      <td>0</td>\n",
              "      <td>0</td>\n",
              "      <td>...</td>\n",
              "      <td>0</td>\n",
              "      <td>0</td>\n",
              "      <td>0</td>\n",
              "      <td>0.0</td>\n",
              "      <td>0</td>\n",
              "      <td>1</td>\n",
              "      <td>0</td>\n",
              "      <td>0</td>\n",
              "      <td>0</td>\n",
              "      <td>0</td>\n",
              "    </tr>\n",
              "  </tbody>\n",
              "</table>\n",
              "<p>5 rows × 64 columns</p>\n",
              "</div>\n",
              "    <div class=\"colab-df-buttons\">\n",
              "\n",
              "  <div class=\"colab-df-container\">\n",
              "    <button class=\"colab-df-convert\" onclick=\"convertToInteractive('df-c1efac6b-868b-40da-8683-11389d95e3c8')\"\n",
              "            title=\"Convert this dataframe to an interactive table.\"\n",
              "            style=\"display:none;\">\n",
              "\n",
              "  <svg xmlns=\"http://www.w3.org/2000/svg\" height=\"24px\" viewBox=\"0 -960 960 960\">\n",
              "    <path d=\"M120-120v-720h720v720H120Zm60-500h600v-160H180v160Zm220 220h160v-160H400v160Zm0 220h160v-160H400v160ZM180-400h160v-160H180v160Zm440 0h160v-160H620v160ZM180-180h160v-160H180v160Zm440 0h160v-160H620v160Z\"/>\n",
              "  </svg>\n",
              "    </button>\n",
              "\n",
              "  <style>\n",
              "    .colab-df-container {\n",
              "      display:flex;\n",
              "      gap: 12px;\n",
              "    }\n",
              "\n",
              "    .colab-df-convert {\n",
              "      background-color: #E8F0FE;\n",
              "      border: none;\n",
              "      border-radius: 50%;\n",
              "      cursor: pointer;\n",
              "      display: none;\n",
              "      fill: #1967D2;\n",
              "      height: 32px;\n",
              "      padding: 0 0 0 0;\n",
              "      width: 32px;\n",
              "    }\n",
              "\n",
              "    .colab-df-convert:hover {\n",
              "      background-color: #E2EBFA;\n",
              "      box-shadow: 0px 1px 2px rgba(60, 64, 67, 0.3), 0px 1px 3px 1px rgba(60, 64, 67, 0.15);\n",
              "      fill: #174EA6;\n",
              "    }\n",
              "\n",
              "    .colab-df-buttons div {\n",
              "      margin-bottom: 4px;\n",
              "    }\n",
              "\n",
              "    [theme=dark] .colab-df-convert {\n",
              "      background-color: #3B4455;\n",
              "      fill: #D2E3FC;\n",
              "    }\n",
              "\n",
              "    [theme=dark] .colab-df-convert:hover {\n",
              "      background-color: #434B5C;\n",
              "      box-shadow: 0px 1px 3px 1px rgba(0, 0, 0, 0.15);\n",
              "      filter: drop-shadow(0px 1px 2px rgba(0, 0, 0, 0.3));\n",
              "      fill: #FFFFFF;\n",
              "    }\n",
              "  </style>\n",
              "\n",
              "    <script>\n",
              "      const buttonEl =\n",
              "        document.querySelector('#df-c1efac6b-868b-40da-8683-11389d95e3c8 button.colab-df-convert');\n",
              "      buttonEl.style.display =\n",
              "        google.colab.kernel.accessAllowed ? 'block' : 'none';\n",
              "\n",
              "      async function convertToInteractive(key) {\n",
              "        const element = document.querySelector('#df-c1efac6b-868b-40da-8683-11389d95e3c8');\n",
              "        const dataTable =\n",
              "          await google.colab.kernel.invokeFunction('convertToInteractive',\n",
              "                                                    [key], {});\n",
              "        if (!dataTable) return;\n",
              "\n",
              "        const docLinkHtml = 'Like what you see? Visit the ' +\n",
              "          '<a target=\"_blank\" href=https://colab.research.google.com/notebooks/data_table.ipynb>data table notebook</a>'\n",
              "          + ' to learn more about interactive tables.';\n",
              "        element.innerHTML = '';\n",
              "        dataTable['output_type'] = 'display_data';\n",
              "        await google.colab.output.renderOutput(dataTable, element);\n",
              "        const docLink = document.createElement('div');\n",
              "        docLink.innerHTML = docLinkHtml;\n",
              "        element.appendChild(docLink);\n",
              "      }\n",
              "    </script>\n",
              "  </div>\n",
              "\n",
              "\n",
              "<div id=\"df-cf0d5b6b-797b-408c-baed-442fbc299e6e\">\n",
              "  <button class=\"colab-df-quickchart\" onclick=\"quickchart('df-cf0d5b6b-797b-408c-baed-442fbc299e6e')\"\n",
              "            title=\"Suggest charts.\"\n",
              "            style=\"display:none;\">\n",
              "\n",
              "<svg xmlns=\"http://www.w3.org/2000/svg\" height=\"24px\"viewBox=\"0 0 24 24\"\n",
              "     width=\"24px\">\n",
              "    <g>\n",
              "        <path d=\"M19 3H5c-1.1 0-2 .9-2 2v14c0 1.1.9 2 2 2h14c1.1 0 2-.9 2-2V5c0-1.1-.9-2-2-2zM9 17H7v-7h2v7zm4 0h-2V7h2v10zm4 0h-2v-4h2v4z\"/>\n",
              "    </g>\n",
              "</svg>\n",
              "  </button>\n",
              "\n",
              "<style>\n",
              "  .colab-df-quickchart {\n",
              "      --bg-color: #E8F0FE;\n",
              "      --fill-color: #1967D2;\n",
              "      --hover-bg-color: #E2EBFA;\n",
              "      --hover-fill-color: #174EA6;\n",
              "      --disabled-fill-color: #AAA;\n",
              "      --disabled-bg-color: #DDD;\n",
              "  }\n",
              "\n",
              "  [theme=dark] .colab-df-quickchart {\n",
              "      --bg-color: #3B4455;\n",
              "      --fill-color: #D2E3FC;\n",
              "      --hover-bg-color: #434B5C;\n",
              "      --hover-fill-color: #FFFFFF;\n",
              "      --disabled-bg-color: #3B4455;\n",
              "      --disabled-fill-color: #666;\n",
              "  }\n",
              "\n",
              "  .colab-df-quickchart {\n",
              "    background-color: var(--bg-color);\n",
              "    border: none;\n",
              "    border-radius: 50%;\n",
              "    cursor: pointer;\n",
              "    display: none;\n",
              "    fill: var(--fill-color);\n",
              "    height: 32px;\n",
              "    padding: 0;\n",
              "    width: 32px;\n",
              "  }\n",
              "\n",
              "  .colab-df-quickchart:hover {\n",
              "    background-color: var(--hover-bg-color);\n",
              "    box-shadow: 0 1px 2px rgba(60, 64, 67, 0.3), 0 1px 3px 1px rgba(60, 64, 67, 0.15);\n",
              "    fill: var(--button-hover-fill-color);\n",
              "  }\n",
              "\n",
              "  .colab-df-quickchart-complete:disabled,\n",
              "  .colab-df-quickchart-complete:disabled:hover {\n",
              "    background-color: var(--disabled-bg-color);\n",
              "    fill: var(--disabled-fill-color);\n",
              "    box-shadow: none;\n",
              "  }\n",
              "\n",
              "  .colab-df-spinner {\n",
              "    border: 2px solid var(--fill-color);\n",
              "    border-color: transparent;\n",
              "    border-bottom-color: var(--fill-color);\n",
              "    animation:\n",
              "      spin 1s steps(1) infinite;\n",
              "  }\n",
              "\n",
              "  @keyframes spin {\n",
              "    0% {\n",
              "      border-color: transparent;\n",
              "      border-bottom-color: var(--fill-color);\n",
              "      border-left-color: var(--fill-color);\n",
              "    }\n",
              "    20% {\n",
              "      border-color: transparent;\n",
              "      border-left-color: var(--fill-color);\n",
              "      border-top-color: var(--fill-color);\n",
              "    }\n",
              "    30% {\n",
              "      border-color: transparent;\n",
              "      border-left-color: var(--fill-color);\n",
              "      border-top-color: var(--fill-color);\n",
              "      border-right-color: var(--fill-color);\n",
              "    }\n",
              "    40% {\n",
              "      border-color: transparent;\n",
              "      border-right-color: var(--fill-color);\n",
              "      border-top-color: var(--fill-color);\n",
              "    }\n",
              "    60% {\n",
              "      border-color: transparent;\n",
              "      border-right-color: var(--fill-color);\n",
              "    }\n",
              "    80% {\n",
              "      border-color: transparent;\n",
              "      border-right-color: var(--fill-color);\n",
              "      border-bottom-color: var(--fill-color);\n",
              "    }\n",
              "    90% {\n",
              "      border-color: transparent;\n",
              "      border-bottom-color: var(--fill-color);\n",
              "    }\n",
              "  }\n",
              "</style>\n",
              "\n",
              "  <script>\n",
              "    async function quickchart(key) {\n",
              "      const quickchartButtonEl =\n",
              "        document.querySelector('#' + key + ' button');\n",
              "      quickchartButtonEl.disabled = true;  // To prevent multiple clicks.\n",
              "      quickchartButtonEl.classList.add('colab-df-spinner');\n",
              "      try {\n",
              "        const charts = await google.colab.kernel.invokeFunction(\n",
              "            'suggestCharts', [key], {});\n",
              "      } catch (error) {\n",
              "        console.error('Error during call to suggestCharts:', error);\n",
              "      }\n",
              "      quickchartButtonEl.classList.remove('colab-df-spinner');\n",
              "      quickchartButtonEl.classList.add('colab-df-quickchart-complete');\n",
              "    }\n",
              "    (() => {\n",
              "      let quickchartButtonEl =\n",
              "        document.querySelector('#df-cf0d5b6b-797b-408c-baed-442fbc299e6e button');\n",
              "      quickchartButtonEl.style.display =\n",
              "        google.colab.kernel.accessAllowed ? 'block' : 'none';\n",
              "    })();\n",
              "  </script>\n",
              "</div>\n",
              "    </div>\n",
              "  </div>\n"
            ]
          },
          "metadata": {},
          "execution_count": 137
        }
      ]
    },
    {
      "cell_type": "markdown",
      "source": [
        "###Model Year"
      ],
      "metadata": {
        "id": "_3SrVHKbMrba"
      }
    },
    {
      "cell_type": "markdown",
      "source": [
        "Age is a better metric than model year."
      ],
      "metadata": {
        "id": "Kv1fHipdWC3T"
      }
    },
    {
      "cell_type": "code",
      "source": [
        "current_year = datetime.date.today().year\n",
        "df[\"age\"] = df.model_year.map(lambda x: current_year - x)\n",
        "df = df.drop(columns=\"model_year\")\n",
        "df.head()"
      ],
      "metadata": {
        "colab": {
          "base_uri": "https://localhost:8080/",
          "height": 499
        },
        "id": "WU8fT8I-MtAM",
        "outputId": "1bd168d8-97c0-48a9-df90-8be2215ecc18"
      },
      "execution_count": null,
      "outputs": [
        {
          "output_type": "execute_result",
          "data": {
            "text/plain": [
              "   milage       transmission                 ext_col int_col  \\\n",
              "0   51000        6-Speed A/T                   Black   Black   \n",
              "1   34742  8-Speed Automatic         Moonlight Cloud    Gray   \n",
              "2   22372          Automatic                    Blue   Black   \n",
              "3   88900        7-Speed A/T                   Black   Black   \n",
              "4    9835  8-Speed Automatic  Glacier White Metallic   Black   \n",
              "\n",
              "                                 accident clean_title  price  \\\n",
              "0  At least 1 accident or damage reported         Yes  10300   \n",
              "1  At least 1 accident or damage reported         Yes  38005   \n",
              "2                           None reported         NaN  54598   \n",
              "3                           None reported         Yes  15500   \n",
              "4                           None reported         NaN  34999   \n",
              "\n",
              "   model-Utility Police Interceptor Base  model-Palisade SEL  \\\n",
              "0                                      1                   0   \n",
              "1                                      0                   1   \n",
              "2                                      0                   0   \n",
              "3                                      0                   0   \n",
              "4                                      0                   0   \n",
              "\n",
              "   model-RX 350 RX 350  ...  brand-Plymouth  brand-Pontiac  horsepower  \\\n",
              "0                    0  ...               0              0       300.0   \n",
              "1                    0  ...               0              0         0.0   \n",
              "2                    1  ...               0              0         0.0   \n",
              "3                    0  ...               0              0       354.0   \n",
              "4                    0  ...               0              0         0.0   \n",
              "\n",
              "   fuel_type-E85 Flex Fuel  fuel_type-Gasoline  fuel_type-Hybrid  \\\n",
              "0                        1                   0                 0   \n",
              "1                        0                   1                 0   \n",
              "2                        0                   1                 0   \n",
              "3                        0                   0                 1   \n",
              "4                        0                   1                 0   \n",
              "\n",
              "   fuel_type-nan  fuel_type-Diesel  fuel_type-Plug-In Hybrid  age  \n",
              "0              0                 0                         0   10  \n",
              "1              0                 0                         0    2  \n",
              "2              0                 0                         0    1  \n",
              "3              0                 0                         0    8  \n",
              "4              0                 0                         0    2  \n",
              "\n",
              "[5 rows x 64 columns]"
            ],
            "text/html": [
              "\n",
              "  <div id=\"df-f567447d-3cdc-4a75-9a61-eb9e113866e9\" class=\"colab-df-container\">\n",
              "    <div>\n",
              "<style scoped>\n",
              "    .dataframe tbody tr th:only-of-type {\n",
              "        vertical-align: middle;\n",
              "    }\n",
              "\n",
              "    .dataframe tbody tr th {\n",
              "        vertical-align: top;\n",
              "    }\n",
              "\n",
              "    .dataframe thead th {\n",
              "        text-align: right;\n",
              "    }\n",
              "</style>\n",
              "<table border=\"1\" class=\"dataframe\">\n",
              "  <thead>\n",
              "    <tr style=\"text-align: right;\">\n",
              "      <th></th>\n",
              "      <th>milage</th>\n",
              "      <th>transmission</th>\n",
              "      <th>ext_col</th>\n",
              "      <th>int_col</th>\n",
              "      <th>accident</th>\n",
              "      <th>clean_title</th>\n",
              "      <th>price</th>\n",
              "      <th>model-Utility Police Interceptor Base</th>\n",
              "      <th>model-Palisade SEL</th>\n",
              "      <th>model-RX 350 RX 350</th>\n",
              "      <th>...</th>\n",
              "      <th>brand-Plymouth</th>\n",
              "      <th>brand-Pontiac</th>\n",
              "      <th>horsepower</th>\n",
              "      <th>fuel_type-E85 Flex Fuel</th>\n",
              "      <th>fuel_type-Gasoline</th>\n",
              "      <th>fuel_type-Hybrid</th>\n",
              "      <th>fuel_type-nan</th>\n",
              "      <th>fuel_type-Diesel</th>\n",
              "      <th>fuel_type-Plug-In Hybrid</th>\n",
              "      <th>age</th>\n",
              "    </tr>\n",
              "  </thead>\n",
              "  <tbody>\n",
              "    <tr>\n",
              "      <th>0</th>\n",
              "      <td>51000</td>\n",
              "      <td>6-Speed A/T</td>\n",
              "      <td>Black</td>\n",
              "      <td>Black</td>\n",
              "      <td>At least 1 accident or damage reported</td>\n",
              "      <td>Yes</td>\n",
              "      <td>10300</td>\n",
              "      <td>1</td>\n",
              "      <td>0</td>\n",
              "      <td>0</td>\n",
              "      <td>...</td>\n",
              "      <td>0</td>\n",
              "      <td>0</td>\n",
              "      <td>300.0</td>\n",
              "      <td>1</td>\n",
              "      <td>0</td>\n",
              "      <td>0</td>\n",
              "      <td>0</td>\n",
              "      <td>0</td>\n",
              "      <td>0</td>\n",
              "      <td>10</td>\n",
              "    </tr>\n",
              "    <tr>\n",
              "      <th>1</th>\n",
              "      <td>34742</td>\n",
              "      <td>8-Speed Automatic</td>\n",
              "      <td>Moonlight Cloud</td>\n",
              "      <td>Gray</td>\n",
              "      <td>At least 1 accident or damage reported</td>\n",
              "      <td>Yes</td>\n",
              "      <td>38005</td>\n",
              "      <td>0</td>\n",
              "      <td>1</td>\n",
              "      <td>0</td>\n",
              "      <td>...</td>\n",
              "      <td>0</td>\n",
              "      <td>0</td>\n",
              "      <td>0.0</td>\n",
              "      <td>0</td>\n",
              "      <td>1</td>\n",
              "      <td>0</td>\n",
              "      <td>0</td>\n",
              "      <td>0</td>\n",
              "      <td>0</td>\n",
              "      <td>2</td>\n",
              "    </tr>\n",
              "    <tr>\n",
              "      <th>2</th>\n",
              "      <td>22372</td>\n",
              "      <td>Automatic</td>\n",
              "      <td>Blue</td>\n",
              "      <td>Black</td>\n",
              "      <td>None reported</td>\n",
              "      <td>NaN</td>\n",
              "      <td>54598</td>\n",
              "      <td>0</td>\n",
              "      <td>0</td>\n",
              "      <td>1</td>\n",
              "      <td>...</td>\n",
              "      <td>0</td>\n",
              "      <td>0</td>\n",
              "      <td>0.0</td>\n",
              "      <td>0</td>\n",
              "      <td>1</td>\n",
              "      <td>0</td>\n",
              "      <td>0</td>\n",
              "      <td>0</td>\n",
              "      <td>0</td>\n",
              "      <td>1</td>\n",
              "    </tr>\n",
              "    <tr>\n",
              "      <th>3</th>\n",
              "      <td>88900</td>\n",
              "      <td>7-Speed A/T</td>\n",
              "      <td>Black</td>\n",
              "      <td>Black</td>\n",
              "      <td>None reported</td>\n",
              "      <td>Yes</td>\n",
              "      <td>15500</td>\n",
              "      <td>0</td>\n",
              "      <td>0</td>\n",
              "      <td>0</td>\n",
              "      <td>...</td>\n",
              "      <td>0</td>\n",
              "      <td>0</td>\n",
              "      <td>354.0</td>\n",
              "      <td>0</td>\n",
              "      <td>0</td>\n",
              "      <td>1</td>\n",
              "      <td>0</td>\n",
              "      <td>0</td>\n",
              "      <td>0</td>\n",
              "      <td>8</td>\n",
              "    </tr>\n",
              "    <tr>\n",
              "      <th>4</th>\n",
              "      <td>9835</td>\n",
              "      <td>8-Speed Automatic</td>\n",
              "      <td>Glacier White Metallic</td>\n",
              "      <td>Black</td>\n",
              "      <td>None reported</td>\n",
              "      <td>NaN</td>\n",
              "      <td>34999</td>\n",
              "      <td>0</td>\n",
              "      <td>0</td>\n",
              "      <td>0</td>\n",
              "      <td>...</td>\n",
              "      <td>0</td>\n",
              "      <td>0</td>\n",
              "      <td>0.0</td>\n",
              "      <td>0</td>\n",
              "      <td>1</td>\n",
              "      <td>0</td>\n",
              "      <td>0</td>\n",
              "      <td>0</td>\n",
              "      <td>0</td>\n",
              "      <td>2</td>\n",
              "    </tr>\n",
              "  </tbody>\n",
              "</table>\n",
              "<p>5 rows × 64 columns</p>\n",
              "</div>\n",
              "    <div class=\"colab-df-buttons\">\n",
              "\n",
              "  <div class=\"colab-df-container\">\n",
              "    <button class=\"colab-df-convert\" onclick=\"convertToInteractive('df-f567447d-3cdc-4a75-9a61-eb9e113866e9')\"\n",
              "            title=\"Convert this dataframe to an interactive table.\"\n",
              "            style=\"display:none;\">\n",
              "\n",
              "  <svg xmlns=\"http://www.w3.org/2000/svg\" height=\"24px\" viewBox=\"0 -960 960 960\">\n",
              "    <path d=\"M120-120v-720h720v720H120Zm60-500h600v-160H180v160Zm220 220h160v-160H400v160Zm0 220h160v-160H400v160ZM180-400h160v-160H180v160Zm440 0h160v-160H620v160ZM180-180h160v-160H180v160Zm440 0h160v-160H620v160Z\"/>\n",
              "  </svg>\n",
              "    </button>\n",
              "\n",
              "  <style>\n",
              "    .colab-df-container {\n",
              "      display:flex;\n",
              "      gap: 12px;\n",
              "    }\n",
              "\n",
              "    .colab-df-convert {\n",
              "      background-color: #E8F0FE;\n",
              "      border: none;\n",
              "      border-radius: 50%;\n",
              "      cursor: pointer;\n",
              "      display: none;\n",
              "      fill: #1967D2;\n",
              "      height: 32px;\n",
              "      padding: 0 0 0 0;\n",
              "      width: 32px;\n",
              "    }\n",
              "\n",
              "    .colab-df-convert:hover {\n",
              "      background-color: #E2EBFA;\n",
              "      box-shadow: 0px 1px 2px rgba(60, 64, 67, 0.3), 0px 1px 3px 1px rgba(60, 64, 67, 0.15);\n",
              "      fill: #174EA6;\n",
              "    }\n",
              "\n",
              "    .colab-df-buttons div {\n",
              "      margin-bottom: 4px;\n",
              "    }\n",
              "\n",
              "    [theme=dark] .colab-df-convert {\n",
              "      background-color: #3B4455;\n",
              "      fill: #D2E3FC;\n",
              "    }\n",
              "\n",
              "    [theme=dark] .colab-df-convert:hover {\n",
              "      background-color: #434B5C;\n",
              "      box-shadow: 0px 1px 3px 1px rgba(0, 0, 0, 0.15);\n",
              "      filter: drop-shadow(0px 1px 2px rgba(0, 0, 0, 0.3));\n",
              "      fill: #FFFFFF;\n",
              "    }\n",
              "  </style>\n",
              "\n",
              "    <script>\n",
              "      const buttonEl =\n",
              "        document.querySelector('#df-f567447d-3cdc-4a75-9a61-eb9e113866e9 button.colab-df-convert');\n",
              "      buttonEl.style.display =\n",
              "        google.colab.kernel.accessAllowed ? 'block' : 'none';\n",
              "\n",
              "      async function convertToInteractive(key) {\n",
              "        const element = document.querySelector('#df-f567447d-3cdc-4a75-9a61-eb9e113866e9');\n",
              "        const dataTable =\n",
              "          await google.colab.kernel.invokeFunction('convertToInteractive',\n",
              "                                                    [key], {});\n",
              "        if (!dataTable) return;\n",
              "\n",
              "        const docLinkHtml = 'Like what you see? Visit the ' +\n",
              "          '<a target=\"_blank\" href=https://colab.research.google.com/notebooks/data_table.ipynb>data table notebook</a>'\n",
              "          + ' to learn more about interactive tables.';\n",
              "        element.innerHTML = '';\n",
              "        dataTable['output_type'] = 'display_data';\n",
              "        await google.colab.output.renderOutput(dataTable, element);\n",
              "        const docLink = document.createElement('div');\n",
              "        docLink.innerHTML = docLinkHtml;\n",
              "        element.appendChild(docLink);\n",
              "      }\n",
              "    </script>\n",
              "  </div>\n",
              "\n",
              "\n",
              "<div id=\"df-ae57e367-89b1-4992-92db-a5c3e6f5d9df\">\n",
              "  <button class=\"colab-df-quickchart\" onclick=\"quickchart('df-ae57e367-89b1-4992-92db-a5c3e6f5d9df')\"\n",
              "            title=\"Suggest charts.\"\n",
              "            style=\"display:none;\">\n",
              "\n",
              "<svg xmlns=\"http://www.w3.org/2000/svg\" height=\"24px\"viewBox=\"0 0 24 24\"\n",
              "     width=\"24px\">\n",
              "    <g>\n",
              "        <path d=\"M19 3H5c-1.1 0-2 .9-2 2v14c0 1.1.9 2 2 2h14c1.1 0 2-.9 2-2V5c0-1.1-.9-2-2-2zM9 17H7v-7h2v7zm4 0h-2V7h2v10zm4 0h-2v-4h2v4z\"/>\n",
              "    </g>\n",
              "</svg>\n",
              "  </button>\n",
              "\n",
              "<style>\n",
              "  .colab-df-quickchart {\n",
              "      --bg-color: #E8F0FE;\n",
              "      --fill-color: #1967D2;\n",
              "      --hover-bg-color: #E2EBFA;\n",
              "      --hover-fill-color: #174EA6;\n",
              "      --disabled-fill-color: #AAA;\n",
              "      --disabled-bg-color: #DDD;\n",
              "  }\n",
              "\n",
              "  [theme=dark] .colab-df-quickchart {\n",
              "      --bg-color: #3B4455;\n",
              "      --fill-color: #D2E3FC;\n",
              "      --hover-bg-color: #434B5C;\n",
              "      --hover-fill-color: #FFFFFF;\n",
              "      --disabled-bg-color: #3B4455;\n",
              "      --disabled-fill-color: #666;\n",
              "  }\n",
              "\n",
              "  .colab-df-quickchart {\n",
              "    background-color: var(--bg-color);\n",
              "    border: none;\n",
              "    border-radius: 50%;\n",
              "    cursor: pointer;\n",
              "    display: none;\n",
              "    fill: var(--fill-color);\n",
              "    height: 32px;\n",
              "    padding: 0;\n",
              "    width: 32px;\n",
              "  }\n",
              "\n",
              "  .colab-df-quickchart:hover {\n",
              "    background-color: var(--hover-bg-color);\n",
              "    box-shadow: 0 1px 2px rgba(60, 64, 67, 0.3), 0 1px 3px 1px rgba(60, 64, 67, 0.15);\n",
              "    fill: var(--button-hover-fill-color);\n",
              "  }\n",
              "\n",
              "  .colab-df-quickchart-complete:disabled,\n",
              "  .colab-df-quickchart-complete:disabled:hover {\n",
              "    background-color: var(--disabled-bg-color);\n",
              "    fill: var(--disabled-fill-color);\n",
              "    box-shadow: none;\n",
              "  }\n",
              "\n",
              "  .colab-df-spinner {\n",
              "    border: 2px solid var(--fill-color);\n",
              "    border-color: transparent;\n",
              "    border-bottom-color: var(--fill-color);\n",
              "    animation:\n",
              "      spin 1s steps(1) infinite;\n",
              "  }\n",
              "\n",
              "  @keyframes spin {\n",
              "    0% {\n",
              "      border-color: transparent;\n",
              "      border-bottom-color: var(--fill-color);\n",
              "      border-left-color: var(--fill-color);\n",
              "    }\n",
              "    20% {\n",
              "      border-color: transparent;\n",
              "      border-left-color: var(--fill-color);\n",
              "      border-top-color: var(--fill-color);\n",
              "    }\n",
              "    30% {\n",
              "      border-color: transparent;\n",
              "      border-left-color: var(--fill-color);\n",
              "      border-top-color: var(--fill-color);\n",
              "      border-right-color: var(--fill-color);\n",
              "    }\n",
              "    40% {\n",
              "      border-color: transparent;\n",
              "      border-right-color: var(--fill-color);\n",
              "      border-top-color: var(--fill-color);\n",
              "    }\n",
              "    60% {\n",
              "      border-color: transparent;\n",
              "      border-right-color: var(--fill-color);\n",
              "    }\n",
              "    80% {\n",
              "      border-color: transparent;\n",
              "      border-right-color: var(--fill-color);\n",
              "      border-bottom-color: var(--fill-color);\n",
              "    }\n",
              "    90% {\n",
              "      border-color: transparent;\n",
              "      border-bottom-color: var(--fill-color);\n",
              "    }\n",
              "  }\n",
              "</style>\n",
              "\n",
              "  <script>\n",
              "    async function quickchart(key) {\n",
              "      const quickchartButtonEl =\n",
              "        document.querySelector('#' + key + ' button');\n",
              "      quickchartButtonEl.disabled = true;  // To prevent multiple clicks.\n",
              "      quickchartButtonEl.classList.add('colab-df-spinner');\n",
              "      try {\n",
              "        const charts = await google.colab.kernel.invokeFunction(\n",
              "            'suggestCharts', [key], {});\n",
              "      } catch (error) {\n",
              "        console.error('Error during call to suggestCharts:', error);\n",
              "      }\n",
              "      quickchartButtonEl.classList.remove('colab-df-spinner');\n",
              "      quickchartButtonEl.classList.add('colab-df-quickchart-complete');\n",
              "    }\n",
              "    (() => {\n",
              "      let quickchartButtonEl =\n",
              "        document.querySelector('#df-ae57e367-89b1-4992-92db-a5c3e6f5d9df button');\n",
              "      quickchartButtonEl.style.display =\n",
              "        google.colab.kernel.accessAllowed ? 'block' : 'none';\n",
              "    })();\n",
              "  </script>\n",
              "</div>\n",
              "    </div>\n",
              "  </div>\n"
            ]
          },
          "metadata": {},
          "execution_count": 138
        }
      ]
    },
    {
      "cell_type": "markdown",
      "source": [
        "###Accident Record"
      ],
      "metadata": {
        "id": "bsYACPBhKoQj"
      }
    },
    {
      "cell_type": "code",
      "source": [
        "df[\"missing_accident_record\"] = df.accident.map(lambda x: 1 if not type(x) == str and math.isnan(x) else 0)\n",
        "df.accident = df.accident.map(lambda x: 1 if x == \"At least 1 accident or damage reported\" else 0)"
      ],
      "metadata": {
        "id": "V58BtGuUWkVR"
      },
      "execution_count": null,
      "outputs": []
    },
    {
      "cell_type": "markdown",
      "source": [
        "###Interior Color"
      ],
      "metadata": {
        "id": "z9YnqhsoKxJ1"
      }
    },
    {
      "cell_type": "code",
      "source": [
        "df = df.drop(columns=\"int_col\")"
      ],
      "metadata": {
        "id": "Z6PzknuKiTQp"
      },
      "execution_count": null,
      "outputs": []
    },
    {
      "cell_type": "markdown",
      "source": [
        "###Exterior Color"
      ],
      "metadata": {
        "id": "rzLqu-fcK4eD"
      }
    },
    {
      "cell_type": "code",
      "source": [
        "df = df.drop(columns=\"ext_col\")"
      ],
      "metadata": {
        "id": "FRaNeNyjLj5e"
      },
      "execution_count": null,
      "outputs": []
    },
    {
      "cell_type": "markdown",
      "source": [
        "###Clean Title"
      ],
      "metadata": {
        "id": "JdP5Fce8KcQF"
      }
    },
    {
      "cell_type": "code",
      "source": [
        "df.clean_title = df.clean_title.map(lambda x: 1 if x == \"Yes\" else 0)"
      ],
      "metadata": {
        "id": "YnLTCMfbLtbH"
      },
      "execution_count": null,
      "outputs": []
    },
    {
      "cell_type": "markdown",
      "source": [
        "###Transmission"
      ],
      "metadata": {
        "id": "lFNjLwQBLNk2"
      }
    },
    {
      "cell_type": "markdown",
      "source": [
        "Let's simplify the data to manual or automatic."
      ],
      "metadata": {
        "id": "vjZ7On2t8Z81"
      }
    },
    {
      "cell_type": "code",
      "source": [
        "def map_transmission(x):\n",
        "  if re.search(\"(A\\/T|AT|Automatic|Dual Shift Mode|CVT-F|Variable|9G-Tronic|Auto)\", x):\n",
        "    return \"automatic\"\n",
        "  elif re.search(\"Manual|M\", x):\n",
        "    return \"manual\"\n",
        "  else:\n",
        "    return \"unknown\""
      ],
      "metadata": {
        "id": "9MmB4o8v9p9t"
      },
      "execution_count": null,
      "outputs": []
    },
    {
      "cell_type": "code",
      "source": [
        "df.transmission = df.transmission.map(map_transmission)"
      ],
      "metadata": {
        "id": "9wVZYniK8j1e"
      },
      "execution_count": null,
      "outputs": []
    },
    {
      "cell_type": "markdown",
      "source": [
        "Then let's one-hot encode the transmission type."
      ],
      "metadata": {
        "id": "HCjVHCiAMtOf"
      }
    },
    {
      "cell_type": "code",
      "source": [
        "df = one_hot_encode(df, \"transmission\")\n",
        "df.head()"
      ],
      "metadata": {
        "id": "vYfOezfFhSZB",
        "colab": {
          "base_uri": "https://localhost:8080/",
          "height": 325
        },
        "outputId": "065cbe2d-1adb-416a-b3d3-e86a74b42ff1"
      },
      "execution_count": null,
      "outputs": [
        {
          "output_type": "execute_result",
          "data": {
            "text/plain": [
              "   milage  accident  clean_title  price  \\\n",
              "0   51000         1            1  10300   \n",
              "1   34742         1            1  38005   \n",
              "2   22372         0            0  54598   \n",
              "3   88900         0            1  15500   \n",
              "4    9835         0            0  34999   \n",
              "\n",
              "   model-Utility Police Interceptor Base  model-Palisade SEL  \\\n",
              "0                                      1                   0   \n",
              "1                                      0                   1   \n",
              "2                                      0                   0   \n",
              "3                                      0                   0   \n",
              "4                                      0                   0   \n",
              "\n",
              "   model-RX 350 RX 350  model-Q50 Hybrid Sport  \\\n",
              "0                    0                       0   \n",
              "1                    0                       0   \n",
              "2                    1                       0   \n",
              "3                    0                       1   \n",
              "4                    0                       0   \n",
              "\n",
              "   model-Q3 45 S line Premium Plus  model-ILX 2.4L  ...  fuel_type-Gasoline  \\\n",
              "0                                0               0  ...                   0   \n",
              "1                                0               0  ...                   1   \n",
              "2                                0               0  ...                   1   \n",
              "3                                0               0  ...                   0   \n",
              "4                                1               0  ...                   1   \n",
              "\n",
              "   fuel_type-Hybrid  fuel_type-nan  fuel_type-Diesel  \\\n",
              "0                 0              0                 0   \n",
              "1                 0              0                 0   \n",
              "2                 0              0                 0   \n",
              "3                 1              0                 0   \n",
              "4                 0              0                 0   \n",
              "\n",
              "   fuel_type-Plug-In Hybrid  age  missing_accident_record  \\\n",
              "0                         0   10                        0   \n",
              "1                         0    2                        0   \n",
              "2                         0    1                        0   \n",
              "3                         0    8                        0   \n",
              "4                         0    2                        0   \n",
              "\n",
              "   transmission-automatic  transmission-unknown  transmission-manual  \n",
              "0                       1                     0                    0  \n",
              "1                       1                     0                    0  \n",
              "2                       1                     0                    0  \n",
              "3                       1                     0                    0  \n",
              "4                       1                     0                    0  \n",
              "\n",
              "[5 rows x 65 columns]"
            ],
            "text/html": [
              "\n",
              "  <div id=\"df-b9c13e1f-a634-4e8f-a0d5-849e19f8f402\" class=\"colab-df-container\">\n",
              "    <div>\n",
              "<style scoped>\n",
              "    .dataframe tbody tr th:only-of-type {\n",
              "        vertical-align: middle;\n",
              "    }\n",
              "\n",
              "    .dataframe tbody tr th {\n",
              "        vertical-align: top;\n",
              "    }\n",
              "\n",
              "    .dataframe thead th {\n",
              "        text-align: right;\n",
              "    }\n",
              "</style>\n",
              "<table border=\"1\" class=\"dataframe\">\n",
              "  <thead>\n",
              "    <tr style=\"text-align: right;\">\n",
              "      <th></th>\n",
              "      <th>milage</th>\n",
              "      <th>accident</th>\n",
              "      <th>clean_title</th>\n",
              "      <th>price</th>\n",
              "      <th>model-Utility Police Interceptor Base</th>\n",
              "      <th>model-Palisade SEL</th>\n",
              "      <th>model-RX 350 RX 350</th>\n",
              "      <th>model-Q50 Hybrid Sport</th>\n",
              "      <th>model-Q3 45 S line Premium Plus</th>\n",
              "      <th>model-ILX 2.4L</th>\n",
              "      <th>...</th>\n",
              "      <th>fuel_type-Gasoline</th>\n",
              "      <th>fuel_type-Hybrid</th>\n",
              "      <th>fuel_type-nan</th>\n",
              "      <th>fuel_type-Diesel</th>\n",
              "      <th>fuel_type-Plug-In Hybrid</th>\n",
              "      <th>age</th>\n",
              "      <th>missing_accident_record</th>\n",
              "      <th>transmission-automatic</th>\n",
              "      <th>transmission-unknown</th>\n",
              "      <th>transmission-manual</th>\n",
              "    </tr>\n",
              "  </thead>\n",
              "  <tbody>\n",
              "    <tr>\n",
              "      <th>0</th>\n",
              "      <td>51000</td>\n",
              "      <td>1</td>\n",
              "      <td>1</td>\n",
              "      <td>10300</td>\n",
              "      <td>1</td>\n",
              "      <td>0</td>\n",
              "      <td>0</td>\n",
              "      <td>0</td>\n",
              "      <td>0</td>\n",
              "      <td>0</td>\n",
              "      <td>...</td>\n",
              "      <td>0</td>\n",
              "      <td>0</td>\n",
              "      <td>0</td>\n",
              "      <td>0</td>\n",
              "      <td>0</td>\n",
              "      <td>10</td>\n",
              "      <td>0</td>\n",
              "      <td>1</td>\n",
              "      <td>0</td>\n",
              "      <td>0</td>\n",
              "    </tr>\n",
              "    <tr>\n",
              "      <th>1</th>\n",
              "      <td>34742</td>\n",
              "      <td>1</td>\n",
              "      <td>1</td>\n",
              "      <td>38005</td>\n",
              "      <td>0</td>\n",
              "      <td>1</td>\n",
              "      <td>0</td>\n",
              "      <td>0</td>\n",
              "      <td>0</td>\n",
              "      <td>0</td>\n",
              "      <td>...</td>\n",
              "      <td>1</td>\n",
              "      <td>0</td>\n",
              "      <td>0</td>\n",
              "      <td>0</td>\n",
              "      <td>0</td>\n",
              "      <td>2</td>\n",
              "      <td>0</td>\n",
              "      <td>1</td>\n",
              "      <td>0</td>\n",
              "      <td>0</td>\n",
              "    </tr>\n",
              "    <tr>\n",
              "      <th>2</th>\n",
              "      <td>22372</td>\n",
              "      <td>0</td>\n",
              "      <td>0</td>\n",
              "      <td>54598</td>\n",
              "      <td>0</td>\n",
              "      <td>0</td>\n",
              "      <td>1</td>\n",
              "      <td>0</td>\n",
              "      <td>0</td>\n",
              "      <td>0</td>\n",
              "      <td>...</td>\n",
              "      <td>1</td>\n",
              "      <td>0</td>\n",
              "      <td>0</td>\n",
              "      <td>0</td>\n",
              "      <td>0</td>\n",
              "      <td>1</td>\n",
              "      <td>0</td>\n",
              "      <td>1</td>\n",
              "      <td>0</td>\n",
              "      <td>0</td>\n",
              "    </tr>\n",
              "    <tr>\n",
              "      <th>3</th>\n",
              "      <td>88900</td>\n",
              "      <td>0</td>\n",
              "      <td>1</td>\n",
              "      <td>15500</td>\n",
              "      <td>0</td>\n",
              "      <td>0</td>\n",
              "      <td>0</td>\n",
              "      <td>1</td>\n",
              "      <td>0</td>\n",
              "      <td>0</td>\n",
              "      <td>...</td>\n",
              "      <td>0</td>\n",
              "      <td>1</td>\n",
              "      <td>0</td>\n",
              "      <td>0</td>\n",
              "      <td>0</td>\n",
              "      <td>8</td>\n",
              "      <td>0</td>\n",
              "      <td>1</td>\n",
              "      <td>0</td>\n",
              "      <td>0</td>\n",
              "    </tr>\n",
              "    <tr>\n",
              "      <th>4</th>\n",
              "      <td>9835</td>\n",
              "      <td>0</td>\n",
              "      <td>0</td>\n",
              "      <td>34999</td>\n",
              "      <td>0</td>\n",
              "      <td>0</td>\n",
              "      <td>0</td>\n",
              "      <td>0</td>\n",
              "      <td>1</td>\n",
              "      <td>0</td>\n",
              "      <td>...</td>\n",
              "      <td>1</td>\n",
              "      <td>0</td>\n",
              "      <td>0</td>\n",
              "      <td>0</td>\n",
              "      <td>0</td>\n",
              "      <td>2</td>\n",
              "      <td>0</td>\n",
              "      <td>1</td>\n",
              "      <td>0</td>\n",
              "      <td>0</td>\n",
              "    </tr>\n",
              "  </tbody>\n",
              "</table>\n",
              "<p>5 rows × 65 columns</p>\n",
              "</div>\n",
              "    <div class=\"colab-df-buttons\">\n",
              "\n",
              "  <div class=\"colab-df-container\">\n",
              "    <button class=\"colab-df-convert\" onclick=\"convertToInteractive('df-b9c13e1f-a634-4e8f-a0d5-849e19f8f402')\"\n",
              "            title=\"Convert this dataframe to an interactive table.\"\n",
              "            style=\"display:none;\">\n",
              "\n",
              "  <svg xmlns=\"http://www.w3.org/2000/svg\" height=\"24px\" viewBox=\"0 -960 960 960\">\n",
              "    <path d=\"M120-120v-720h720v720H120Zm60-500h600v-160H180v160Zm220 220h160v-160H400v160Zm0 220h160v-160H400v160ZM180-400h160v-160H180v160Zm440 0h160v-160H620v160ZM180-180h160v-160H180v160Zm440 0h160v-160H620v160Z\"/>\n",
              "  </svg>\n",
              "    </button>\n",
              "\n",
              "  <style>\n",
              "    .colab-df-container {\n",
              "      display:flex;\n",
              "      gap: 12px;\n",
              "    }\n",
              "\n",
              "    .colab-df-convert {\n",
              "      background-color: #E8F0FE;\n",
              "      border: none;\n",
              "      border-radius: 50%;\n",
              "      cursor: pointer;\n",
              "      display: none;\n",
              "      fill: #1967D2;\n",
              "      height: 32px;\n",
              "      padding: 0 0 0 0;\n",
              "      width: 32px;\n",
              "    }\n",
              "\n",
              "    .colab-df-convert:hover {\n",
              "      background-color: #E2EBFA;\n",
              "      box-shadow: 0px 1px 2px rgba(60, 64, 67, 0.3), 0px 1px 3px 1px rgba(60, 64, 67, 0.15);\n",
              "      fill: #174EA6;\n",
              "    }\n",
              "\n",
              "    .colab-df-buttons div {\n",
              "      margin-bottom: 4px;\n",
              "    }\n",
              "\n",
              "    [theme=dark] .colab-df-convert {\n",
              "      background-color: #3B4455;\n",
              "      fill: #D2E3FC;\n",
              "    }\n",
              "\n",
              "    [theme=dark] .colab-df-convert:hover {\n",
              "      background-color: #434B5C;\n",
              "      box-shadow: 0px 1px 3px 1px rgba(0, 0, 0, 0.15);\n",
              "      filter: drop-shadow(0px 1px 2px rgba(0, 0, 0, 0.3));\n",
              "      fill: #FFFFFF;\n",
              "    }\n",
              "  </style>\n",
              "\n",
              "    <script>\n",
              "      const buttonEl =\n",
              "        document.querySelector('#df-b9c13e1f-a634-4e8f-a0d5-849e19f8f402 button.colab-df-convert');\n",
              "      buttonEl.style.display =\n",
              "        google.colab.kernel.accessAllowed ? 'block' : 'none';\n",
              "\n",
              "      async function convertToInteractive(key) {\n",
              "        const element = document.querySelector('#df-b9c13e1f-a634-4e8f-a0d5-849e19f8f402');\n",
              "        const dataTable =\n",
              "          await google.colab.kernel.invokeFunction('convertToInteractive',\n",
              "                                                    [key], {});\n",
              "        if (!dataTable) return;\n",
              "\n",
              "        const docLinkHtml = 'Like what you see? Visit the ' +\n",
              "          '<a target=\"_blank\" href=https://colab.research.google.com/notebooks/data_table.ipynb>data table notebook</a>'\n",
              "          + ' to learn more about interactive tables.';\n",
              "        element.innerHTML = '';\n",
              "        dataTable['output_type'] = 'display_data';\n",
              "        await google.colab.output.renderOutput(dataTable, element);\n",
              "        const docLink = document.createElement('div');\n",
              "        docLink.innerHTML = docLinkHtml;\n",
              "        element.appendChild(docLink);\n",
              "      }\n",
              "    </script>\n",
              "  </div>\n",
              "\n",
              "\n",
              "<div id=\"df-506f2114-4a9a-4dcb-ac39-3f4ad1545173\">\n",
              "  <button class=\"colab-df-quickchart\" onclick=\"quickchart('df-506f2114-4a9a-4dcb-ac39-3f4ad1545173')\"\n",
              "            title=\"Suggest charts.\"\n",
              "            style=\"display:none;\">\n",
              "\n",
              "<svg xmlns=\"http://www.w3.org/2000/svg\" height=\"24px\"viewBox=\"0 0 24 24\"\n",
              "     width=\"24px\">\n",
              "    <g>\n",
              "        <path d=\"M19 3H5c-1.1 0-2 .9-2 2v14c0 1.1.9 2 2 2h14c1.1 0 2-.9 2-2V5c0-1.1-.9-2-2-2zM9 17H7v-7h2v7zm4 0h-2V7h2v10zm4 0h-2v-4h2v4z\"/>\n",
              "    </g>\n",
              "</svg>\n",
              "  </button>\n",
              "\n",
              "<style>\n",
              "  .colab-df-quickchart {\n",
              "      --bg-color: #E8F0FE;\n",
              "      --fill-color: #1967D2;\n",
              "      --hover-bg-color: #E2EBFA;\n",
              "      --hover-fill-color: #174EA6;\n",
              "      --disabled-fill-color: #AAA;\n",
              "      --disabled-bg-color: #DDD;\n",
              "  }\n",
              "\n",
              "  [theme=dark] .colab-df-quickchart {\n",
              "      --bg-color: #3B4455;\n",
              "      --fill-color: #D2E3FC;\n",
              "      --hover-bg-color: #434B5C;\n",
              "      --hover-fill-color: #FFFFFF;\n",
              "      --disabled-bg-color: #3B4455;\n",
              "      --disabled-fill-color: #666;\n",
              "  }\n",
              "\n",
              "  .colab-df-quickchart {\n",
              "    background-color: var(--bg-color);\n",
              "    border: none;\n",
              "    border-radius: 50%;\n",
              "    cursor: pointer;\n",
              "    display: none;\n",
              "    fill: var(--fill-color);\n",
              "    height: 32px;\n",
              "    padding: 0;\n",
              "    width: 32px;\n",
              "  }\n",
              "\n",
              "  .colab-df-quickchart:hover {\n",
              "    background-color: var(--hover-bg-color);\n",
              "    box-shadow: 0 1px 2px rgba(60, 64, 67, 0.3), 0 1px 3px 1px rgba(60, 64, 67, 0.15);\n",
              "    fill: var(--button-hover-fill-color);\n",
              "  }\n",
              "\n",
              "  .colab-df-quickchart-complete:disabled,\n",
              "  .colab-df-quickchart-complete:disabled:hover {\n",
              "    background-color: var(--disabled-bg-color);\n",
              "    fill: var(--disabled-fill-color);\n",
              "    box-shadow: none;\n",
              "  }\n",
              "\n",
              "  .colab-df-spinner {\n",
              "    border: 2px solid var(--fill-color);\n",
              "    border-color: transparent;\n",
              "    border-bottom-color: var(--fill-color);\n",
              "    animation:\n",
              "      spin 1s steps(1) infinite;\n",
              "  }\n",
              "\n",
              "  @keyframes spin {\n",
              "    0% {\n",
              "      border-color: transparent;\n",
              "      border-bottom-color: var(--fill-color);\n",
              "      border-left-color: var(--fill-color);\n",
              "    }\n",
              "    20% {\n",
              "      border-color: transparent;\n",
              "      border-left-color: var(--fill-color);\n",
              "      border-top-color: var(--fill-color);\n",
              "    }\n",
              "    30% {\n",
              "      border-color: transparent;\n",
              "      border-left-color: var(--fill-color);\n",
              "      border-top-color: var(--fill-color);\n",
              "      border-right-color: var(--fill-color);\n",
              "    }\n",
              "    40% {\n",
              "      border-color: transparent;\n",
              "      border-right-color: var(--fill-color);\n",
              "      border-top-color: var(--fill-color);\n",
              "    }\n",
              "    60% {\n",
              "      border-color: transparent;\n",
              "      border-right-color: var(--fill-color);\n",
              "    }\n",
              "    80% {\n",
              "      border-color: transparent;\n",
              "      border-right-color: var(--fill-color);\n",
              "      border-bottom-color: var(--fill-color);\n",
              "    }\n",
              "    90% {\n",
              "      border-color: transparent;\n",
              "      border-bottom-color: var(--fill-color);\n",
              "    }\n",
              "  }\n",
              "</style>\n",
              "\n",
              "  <script>\n",
              "    async function quickchart(key) {\n",
              "      const quickchartButtonEl =\n",
              "        document.querySelector('#' + key + ' button');\n",
              "      quickchartButtonEl.disabled = true;  // To prevent multiple clicks.\n",
              "      quickchartButtonEl.classList.add('colab-df-spinner');\n",
              "      try {\n",
              "        const charts = await google.colab.kernel.invokeFunction(\n",
              "            'suggestCharts', [key], {});\n",
              "      } catch (error) {\n",
              "        console.error('Error during call to suggestCharts:', error);\n",
              "      }\n",
              "      quickchartButtonEl.classList.remove('colab-df-spinner');\n",
              "      quickchartButtonEl.classList.add('colab-df-quickchart-complete');\n",
              "    }\n",
              "    (() => {\n",
              "      let quickchartButtonEl =\n",
              "        document.querySelector('#df-506f2114-4a9a-4dcb-ac39-3f4ad1545173 button');\n",
              "      quickchartButtonEl.style.display =\n",
              "        google.colab.kernel.accessAllowed ? 'block' : 'none';\n",
              "    })();\n",
              "  </script>\n",
              "</div>\n",
              "    </div>\n",
              "  </div>\n"
            ]
          },
          "metadata": {},
          "execution_count": 145
        }
      ]
    },
    {
      "cell_type": "markdown",
      "source": [
        "##Analysis"
      ],
      "metadata": {
        "id": "eO8xMUZbXxKu"
      }
    },
    {
      "cell_type": "code",
      "source": [
        "def analyze_model(model, train_x, train_y, test_x, test_y):\n",
        "  model.fit(train_x, train_y)\n",
        "  pred = model.predict(test_x)\n",
        "  print(\"Mean Error: %f\" % math.sqrt(mean_squared_error(test_y, pred)))\n",
        "  residuals = pred-test_y\n",
        "  plt.figure(figsize=(6,2))\n",
        "  sns.boxplot(data=residuals, orient=\"h\").set(title=\"Residuals\")"
      ],
      "metadata": {
        "id": "n0SVqFafZBzx"
      },
      "execution_count": null,
      "outputs": []
    },
    {
      "cell_type": "code",
      "source": [
        "df.shape"
      ],
      "metadata": {
        "colab": {
          "base_uri": "https://localhost:8080/"
        },
        "id": "lR1DzfSCGMLV",
        "outputId": "3e191e9d-83ae-4951-9961-2115458a3929"
      },
      "execution_count": null,
      "outputs": [
        {
          "output_type": "execute_result",
          "data": {
            "text/plain": [
              "(3699, 65)"
            ]
          },
          "metadata": {},
          "execution_count": 147
        }
      ]
    },
    {
      "cell_type": "code",
      "source": [
        "df.isna().sum()"
      ],
      "metadata": {
        "id": "J9GKwjPllZCn",
        "colab": {
          "base_uri": "https://localhost:8080/"
        },
        "outputId": "164801b6-8481-4ef3-f6e1-f5d6ff9a1af3"
      },
      "execution_count": null,
      "outputs": [
        {
          "output_type": "execute_result",
          "data": {
            "text/plain": [
              "milage                                   0\n",
              "accident                                 0\n",
              "clean_title                              0\n",
              "price                                    0\n",
              "model-Utility Police Interceptor Base    0\n",
              "                                        ..\n",
              "age                                      0\n",
              "missing_accident_record                  0\n",
              "transmission-automatic                   0\n",
              "transmission-unknown                     0\n",
              "transmission-manual                      0\n",
              "Length: 65, dtype: int64"
            ]
          },
          "metadata": {},
          "execution_count": 148
        }
      ]
    },
    {
      "cell_type": "code",
      "source": [
        "x = df.loc[:, df.columns != \"price\"]\n",
        "y = df[\"price\"].values"
      ],
      "metadata": {
        "id": "R4L18_bNiiYo"
      },
      "execution_count": null,
      "outputs": []
    },
    {
      "cell_type": "code",
      "source": [
        "train_x, test_x, train_y, test_y = train_test_split(x, y, test_size=0.3, random_state=1)"
      ],
      "metadata": {
        "id": "X2WhV8gIizGu"
      },
      "execution_count": null,
      "outputs": []
    },
    {
      "cell_type": "markdown",
      "source": [
        "###Bayesian Ridge Regression"
      ],
      "metadata": {
        "id": "SfV0eBUjT00c"
      }
    },
    {
      "cell_type": "code",
      "source": [
        "analyze_model(linear_model.BayesianRidge(), train_x, train_y, test_x, test_y)"
      ],
      "metadata": {
        "colab": {
          "base_uri": "https://localhost:8080/",
          "height": 255
        },
        "id": "webqCFa4TWW8",
        "outputId": "1101d688-6d59-47c5-e612-8c9a5a0d8904"
      },
      "execution_count": null,
      "outputs": [
        {
          "output_type": "stream",
          "name": "stdout",
          "text": [
            "Mean Error: 12577.876116\n"
          ]
        },
        {
          "output_type": "display_data",
          "data": {
            "text/plain": [
              "<Figure size 600x200 with 1 Axes>"
            ],
            "image/png": "[encoded data removed]"
          },
          "metadata": {}
        }
      ]
    },
    {
      "cell_type": "code",
      "source": [
        "analyze_model(tree.DecisionTreeRegressor(), train_x, train_y, test_x, test_y)"
      ],
      "metadata": {
        "colab": {
          "base_uri": "https://localhost:8080/",
          "height": 255
        },
        "id": "abCF6MpkUAvO",
        "outputId": "290806ec-4410-4adf-f48f-48d998900d5f"
      },
      "execution_count": null,
      "outputs": [
        {
          "output_type": "stream",
          "name": "stdout",
          "text": [
            "Mean Error: 15189.325934\n"
          ]
        },
        {
          "output_type": "display_data",
          "data": {
            "text/plain": [
              "<Figure size 600x200 with 1 Axes>"
            ],
            "image/png": "[encoded data removed]"
          },
          "metadata": {}
        }
      ]
    },
    {
      "cell_type": "code",
      "source": [
        "analyze_model(linear_model.LinearRegression(), train_x, train_y, test_x, test_y)"
      ],
      "metadata": {
        "colab": {
          "base_uri": "https://localhost:8080/",
          "height": 255
        },
        "id": "56rjDbOeYk6y",
        "outputId": "e751784d-e727-4e9e-d707-0ad7b3f968d5"
      },
      "execution_count": null,
      "outputs": [
        {
          "output_type": "stream",
          "name": "stdout",
          "text": [
            "Mean Error: 12570.551629\n"
          ]
        },
        {
          "output_type": "display_data",
          "data": {
            "text/plain": [
              "<Figure size 600x200 with 1 Axes>"
            ],
            "image/png": "[encoded data removed]"
          },
          "metadata": {}
        }
      ]
    },
    {
      "cell_type": "markdown",
      "source": [
        "The models tend to predict a lower value than the actual. This could be caused by the distribution of data."
      ],
      "metadata": {
        "id": "RFrf8Tv9cPJn"
      }
    },
    {
      "cell_type": "code",
      "source": [],
      "metadata": {
        "id": "rY02iXqGchJh"
      },
      "execution_count": null,
      "outputs": []
    }
  ]
}